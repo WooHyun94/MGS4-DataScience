{
 "cells": [
  {
   "cell_type": "markdown",
   "metadata": {
    "id": "UsZSmAj47LXm",
    "slideshow": {
     "slide_type": "slide"
    }
   },
   "source": [
    "# **데이터 크롤링**"
   ]
  },
  {
   "cell_type": "markdown",
   "metadata": {
    "id": "qGMeSCoV7QTQ",
    "slideshow": {
     "slide_type": "slide"
    }
   },
   "source": [
    "## **크롤링이란?**\n",
    "> 크롤러(crawler)는 자동화된 방법으로 웹을 탐색하는 컴퓨터 프로그램  \n",
    "'웹 크롤링'(web crawling)??  \n",
    "'데이터 크롤링'(data crawling)!!  "
   ]
  },
  {
   "cell_type": "markdown",
   "metadata": {
    "id": "WboqZ6A47Yqe",
    "slideshow": {
     "slide_type": "slide"
    }
   },
   "source": [
    "우리는 매일 크롤러도 사용하고 있습니다."
   ]
  },
  {
   "cell_type": "markdown",
   "metadata": {
    "id": "5PfW0HG17td5",
    "slideshow": {
     "slide_type": "slide"
    }
   },
   "source": [
    "## **웹 크롤링**\n",
    "> 웹 서비스 내 정보를 수집하는 일  \n",
    "다만 서비스 제공자의 입장에서는??  \n",
    "\n",
    ">> 필요한 정보가 있다면?  \n",
    "API 확인 -> 없으면 직접 크롤링  "
   ]
  },
  {
   "cell_type": "markdown",
   "metadata": {
    "id": "e0ITGMAN70Da",
    "slideshow": {
     "slide_type": "slide"
    }
   },
   "source": [
    "### 웹 서핑을 하는 의식의 흐름\n",
    "> - 브라우저 오픈  \n",
    "> - 원하는 인터넷페이지 주소 입력  \n",
    "> - 화면이 열리면 찾고자 하는 정보를 스크롤 하면서 찾기  \n",
    "> - 문자, 그림, 동영상 조회  "
   ]
  },
  {
   "cell_type": "markdown",
   "metadata": {
    "id": "AWcggzcG728P",
    "slideshow": {
     "slide_type": "slide"
    }
   },
   "source": [
    "### 웹 크롤링 하는 의식의 흐름\n",
    "> - 정보를 가져오고자 하는 url 정의\n",
    "> - url 정보로 requests로 정보 요청\n",
    "> - text 정보를 html로 변환\n",
    "> - html에서 우리가 필요한 정보만 선별"
   ]
  },
  {
   "cell_type": "markdown",
   "metadata": {},
   "source": [
    "## requests\n",
    "> - HTTP 요청을 주고받기 위한 파이썬 패키지\n",
    "> - 파이썬 내장 패키지는 아니지만 사실상 HTTP 요청을 주고받기 위한 표준이라 생각해도 무방함\n",
    "> - 웹 페이지에 요청, 업데이트, 삭제 등 인터넷프로토콜을 파이썬으로 제어한다.\n",
    "> - requests는 요청을 하고 데이터를 전달 받지만 text 혹은 바이너리 형태로만 전달받음."
   ]
  },
  {
   "cell_type": "markdown",
   "metadata": {
    "id": "XT464CpR75Uh",
    "slideshow": {
     "slide_type": "slide"
    }
   },
   "source": [
    "## BeautifulSoup\n",
    "> - API는 통신을 위해 정형화 된 데이터 형태의 text, json등을 통신에 사용한다.  \n",
    "> - requests로 전달받은 데이터를 우리가 원하는 데이터로 가공하기 위해 편의상 html로 변환  \n",
    "> - text를 html로 변환하는 모듈이 beautifulSoup"
   ]
  },
  {
   "cell_type": "markdown",
   "metadata": {},
   "source": [
    "### BeautifulSoup 설치"
   ]
  },
  {
   "cell_type": "code",
   "execution_count": 3,
   "metadata": {},
   "outputs": [],
   "source": [
    "# 패키지 설치 및 import \n",
    "# !pip install BeautifulSoup4\n",
    "from bs4 import BeautifulSoup"
   ]
  },
  {
   "cell_type": "markdown",
   "metadata": {
    "id": "5j1oR5fO78FW",
    "slideshow": {
     "slide_type": "slide"
    }
   },
   "source": [
    "## 간단한 데이터 크롤링으로 기본 개념잡기"
   ]
  },
  {
   "cell_type": "code",
   "execution_count": 4,
   "metadata": {
    "ExecuteTime": {
     "end_time": "2022-06-06T12:31:55.025515Z",
     "start_time": "2022-06-06T12:31:55.017120Z"
    }
   },
   "outputs": [],
   "source": [
    "# 필요패키지 import\n",
    "import time\n",
    "import json\n",
    "import urllib\n",
    "import requests\n",
    "import numpy as np\n",
    "import pandas as pd\n",
    "import matplotlib.pyplot as plt\n",
    "import seaborn as sns"
   ]
  },
  {
   "cell_type": "markdown",
   "metadata": {},
   "source": [
    "#### 네이버 메인페이지 크롤링"
   ]
  },
  {
   "cell_type": "code",
   "execution_count": 14,
   "metadata": {
    "ExecuteTime": {
     "end_time": "2022-06-05T08:22:42.640127Z",
     "start_time": "2022-06-05T08:22:42.148159Z"
    },
    "scrolled": true
   },
   "outputs": [
    {
     "data": {
      "text/plain": [
       "([<img alt=\"미디어오늘\" class=\"news_logo\" height=\"20\" src=\"https://s.pstatic.net/static/newsstand/2020/logo/light/0604/006.png\"/>,\n",
       "  <img alt=\"오마이뉴스\" class=\"news_logo\" height=\"20\" src=\"https://s.pstatic.net/static/newsstand/2020/logo/light/0604/047.png\"/>,\n",
       "  <img alt=\"아시아경제\" class=\"news_logo\" height=\"20\" src=\"https://s.pstatic.net/static/newsstand/2020/logo/light/0604/277.png\"/>,\n",
       "  <img alt=\"동아일보\" class=\"news_logo\" height=\"20\" src=\"https://s.pstatic.net/static/newsstand/2020/logo/light/0604/020.png\"/>,\n",
       "  <img alt=\"스포츠조선\" class=\"news_logo\" height=\"20\" src=\"https://s.pstatic.net/static/newsstand/2020/logo/light/0604/076.png\"/>,\n",
       "  <img alt=\"서울신문\" class=\"news_logo\" height=\"20\" src=\"https://s.pstatic.net/static/newsstand/up/2022/0208/nsd16121208.png\"/>,\n",
       "  <img alt=\"지지통신\" class=\"news_logo\" height=\"20\" src=\"https://s.pstatic.net/static/newsstand/2020/logo/light/0604/376.png\"/>,\n",
       "  <img alt=\"연합뉴스TV\" class=\"news_logo\" height=\"20\" src=\"https://s.pstatic.net/static/newsstand/2020/logo/light/0604/422.png\"/>,\n",
       "  <img alt=\"JTBC\" class=\"news_logo\" height=\"20\" src=\"https://s.pstatic.net/static/newsstand/2020/logo/light/0604/904.png\"/>,\n",
       "  <img alt=\"KBS World\" class=\"news_logo\" height=\"20\" src=\"https://s.pstatic.net/static/newsstand/2020/logo/light/0604/326.png\"/>,\n",
       "  <img alt=\"시사인\" class=\"news_logo\" height=\"20\" src=\"https://s.pstatic.net/static/newsstand/2020/logo/light/0604/308.png\"/>,\n",
       "  <img alt=\"조선일보\" class=\"news_logo\" height=\"20\" src=\"https://s.pstatic.net/static/newsstand/up/2020/0903/nsd185255316.png\"/>,\n",
       "  <img alt=\"서울경제\" class=\"news_logo\" height=\"20\" src=\"https://s.pstatic.net/static/newsstand/2019/logo/011.png\"/>,\n",
       "  <img alt=\"파이낸셜뉴스\" class=\"news_logo\" height=\"20\" src=\"https://s.pstatic.net/static/newsstand/2020/logo/light/0604/014.png\"/>,\n",
       "  <img alt=\"MBC\" class=\"news_logo\" height=\"20\" src=\"https://s.pstatic.net/static/newsstand/2020/logo/light/0604/214.png\"/>,\n",
       "  <img alt=\"넥스트데일리\" class=\"news_logo\" height=\"20\" src=\"https://s.pstatic.net/static/newsstand/2020/logo/light/0604/910.png\"/>,\n",
       "  <img alt=\"식품저널 foodnews\" class=\"news_logo\" height=\"20\" src=\"https://s.pstatic.net/static/newsstand/up/2021/0211/nsd0427277.png\"/>,\n",
       "  <img alt=\"MONEY\" class=\"news_logo\" height=\"20\" src=\"https://s.pstatic.net/static/newsstand/2020/logo/light/0604/806.png\"/>,\n",
       "  <img alt=\"엘르\" class=\"news_logo\" height=\"20\" src=\"https://s.pstatic.net/static/newsstand/2020/logo/light/0604/354.png\"/>,\n",
       "  <img alt=\"포브스코리아\" class=\"news_logo\" height=\"20\" src=\"https://s.pstatic.net/static/newsstand/2020/logo/light/0604/951.png\"/>,\n",
       "  <img alt=\"데일리임팩트\" class=\"news_logo\" height=\"20\" src=\"https://s.pstatic.net/static/newsstand/up/2021/0819/nsd151219656.png\"/>,\n",
       "  <img alt=\"TBS\" class=\"news_logo\" height=\"20\" src=\"https://s.pstatic.net/static/newsstand/2020/logo/light/0604/981.png\"/>,\n",
       "  <img alt=\"YONHAPNEWS\" class=\"news_logo\" height=\"20\" src=\"https://s.pstatic.net/static/newsstand/2020/logo/light/0604/946.png\"/>,\n",
       "  <img alt=\"조이뉴스24\" class=\"news_logo\" height=\"20\" src=\"https://s.pstatic.net/static/newsstand/2020/logo/light/0604/947.png\"/>,\n",
       "  <img alt=\"그동안 꾸며본 다락방 기록\" data-src=\"https://s.pstatic.net/dthumb.phinf/?src=%22https%3A%2F%2Fs.pstatic.net%2Fshop.phinf%2F20220831_58%2F16619474332511wono_JPEG%2FDFG.jpg%22&amp;type=nf340_228\" height=\"114\" onerror=\"this.outerHTML='&lt;span class=\\'pm_noimg\\'&gt;&lt;span class=\\'noimg_text\\'&gt;이미지 준비중&lt;/span&gt;&lt;/span&gt;'\" src=\"https://s.pstatic.net/dthumb.phinf/?src=%22https%3A%2F%2Fs.pstatic.net%2Fshop.phinf%2F20220831_58%2F16619474332511wono_JPEG%2FDFG.jpg%22&amp;type=nf340_228\" width=\"170\"/>,\n",
       "  <img alt=\"깔끔한 미니멀 스타일이 더해져 편안한 공간 완성\" data-src=\"https://s.pstatic.net/dthumb.phinf/?src=%22https%3A%2F%2Fs.pstatic.net%2Fshop.phinf%2F20220831_136%2F1661947425218Cz11I_JPEG%2F_DSC0004_5_6.jpg%22&amp;type=nf340_228\" height=\"114\" onerror=\"this.outerHTML='&lt;span class=\\'pm_noimg\\'&gt;&lt;span class=\\'noimg_text\\'&gt;이미지 준비중&lt;/span&gt;&lt;/span&gt;'\" src=\"https://s.pstatic.net/dthumb.phinf/?src=%22https%3A%2F%2Fs.pstatic.net%2Fshop.phinf%2F20220831_136%2F1661947425218Cz11I_JPEG%2F_DSC0004_5_6.jpg%22&amp;type=nf340_228\" width=\"170\"/>,\n",
       "  <img alt=\"내돈내산 신혼집 인테리어 소품 TOP 5 추천\" data-src=\"https://s.pstatic.net/dthumb.phinf/?src=%22https%3A%2F%2Fs.pstatic.net%2Fshop.phinf%2F20220831_98%2F16619474156143jqSm_JPEG%2FIOP.jpg%22&amp;type=nf340_228\" height=\"114\" onerror=\"this.outerHTML='&lt;span class=\\'pm_noimg\\'&gt;&lt;span class=\\'noimg_text\\'&gt;이미지 준비중&lt;/span&gt;&lt;/span&gt;'\" src=\"https://s.pstatic.net/dthumb.phinf/?src=%22https%3A%2F%2Fs.pstatic.net%2Fshop.phinf%2F20220831_98%2F16619474156143jqSm_JPEG%2FIOP.jpg%22&amp;type=nf340_228\" width=\"170\"/>,\n",
       "  <img alt=\"우리 집을 미술관 카페처럼\" data-src=\"https://s.pstatic.net/dthumb.phinf/?src=%22https%3A%2F%2Fs.pstatic.net%2Fshop.phinf%2F20220829_15%2F16617705895275ea46_JPEG%2FNaverBlog_20220826_134627_05-%25281%2529.jpg%22&amp;type=nf340_228\" height=\"114\" onerror=\"this.outerHTML='&lt;span class=\\'pm_noimg\\'&gt;&lt;span class=\\'noimg_text\\'&gt;이미지 준비중&lt;/span&gt;&lt;/span&gt;'\" src=\"https://s.pstatic.net/dthumb.phinf/?src=%22https%3A%2F%2Fs.pstatic.net%2Fshop.phinf%2F20220829_15%2F16617705895275ea46_JPEG%2FNaverBlog_20220826_134627_05-%25281%2529.jpg%22&amp;type=nf340_228\" width=\"170\"/>,\n",
       "  <img alt=\"17평 아파트 신혼집, 깔끔하고 효율적으로 꾸미기\" data-src=\"https://s.pstatic.net/dthumb.phinf/?src=%22https%3A%2F%2Fs.pstatic.net%2Fshop.phinf%2F20220829_94%2F1661770573097FL1El_JPEG%2FIMG_3788.jpg%22&amp;type=nf340_228\" height=\"114\" onerror=\"this.outerHTML='&lt;span class=\\'pm_noimg\\'&gt;&lt;span class=\\'noimg_text\\'&gt;이미지 준비중&lt;/span&gt;&lt;/span&gt;'\" src=\"https://s.pstatic.net/dthumb.phinf/?src=%22https%3A%2F%2Fs.pstatic.net%2Fshop.phinf%2F20220829_94%2F1661770573097FL1El_JPEG%2FIMG_3788.jpg%22&amp;type=nf340_228\" width=\"170\"/>,\n",
       "  <img alt=\"살면서 조금씩 고쳐 본 침실\" data-src=\"https://s.pstatic.net/dthumb.phinf/?src=%22https%3A%2F%2Fs.pstatic.net%2Fshop.phinf%2F20220829_21%2F1661770147518BvmO2_JPEG%2FSE-7038f012-488c-4fb0-ab53-002481145ba2.jpg%22&amp;type=nf340_228\" height=\"114\" onerror=\"this.outerHTML='&lt;span class=\\'pm_noimg\\'&gt;&lt;span class=\\'noimg_text\\'&gt;이미지 준비중&lt;/span&gt;&lt;/span&gt;'\" src=\"https://s.pstatic.net/dthumb.phinf/?src=%22https%3A%2F%2Fs.pstatic.net%2Fshop.phinf%2F20220829_21%2F1661770147518BvmO2_JPEG%2FSE-7038f012-488c-4fb0-ab53-002481145ba2.jpg%22&amp;type=nf340_228\" width=\"170\"/>,\n",
       "  <img alt=\"있으면 살림이 편해지는 소소한 주방템 5가지\" data-src=\"https://s.pstatic.net/dthumb.phinf/?src=%22https%3A%2F%2Fs.pstatic.net%2Fshop.phinf%2F20220829_127%2F1661770138860MQd6J_JPEG%2Fewf.jpg%22&amp;type=nf340_228\" height=\"114\" onerror=\"this.outerHTML='&lt;span class=\\'pm_noimg\\'&gt;&lt;span class=\\'noimg_text\\'&gt;이미지 준비중&lt;/span&gt;&lt;/span&gt;'\" src=\"https://s.pstatic.net/dthumb.phinf/?src=%22https%3A%2F%2Fs.pstatic.net%2Fshop.phinf%2F20220829_127%2F1661770138860MQd6J_JPEG%2Fewf.jpg%22&amp;type=nf340_228\" width=\"170\"/>,\n",
       "  <img alt=\"좁지만 아늑한 베란다, 활용도 높은 공간으로 만들기\" data-src=\"https://s.pstatic.net/dthumb.phinf/?src=%22https%3A%2F%2Fs.pstatic.net%2Fshop.phinf%2F20220829_94%2F1661770126490AcdeI_JPEG%2Fty.jpg%22&amp;type=nf340_228\" height=\"114\" onerror=\"this.outerHTML='&lt;span class=\\'pm_noimg\\'&gt;&lt;span class=\\'noimg_text\\'&gt;이미지 준비중&lt;/span&gt;&lt;/span&gt;'\" src=\"https://s.pstatic.net/dthumb.phinf/?src=%22https%3A%2F%2Fs.pstatic.net%2Fshop.phinf%2F20220829_94%2F1661770126490AcdeI_JPEG%2Fty.jpg%22&amp;type=nf340_228\" width=\"170\"/>,\n",
       "  <img alt=\"\" height=\"130\" onerror=\"this.outerHTML='&lt;span class=\\'pm_noimg\\'&gt;&lt;span class=\\'noimg_text\\'&gt;이미지 준비중&lt;/span&gt;&lt;/span&gt;'\" src=\"https://happybean-phinf.pstatic.net/20220823_294/1661242212691f35NT_JPEG/%B8%EB%A4%EC25.jpg?type=f464_260\" width=\"232\"/>,\n",
       "  <img alt=\"\" height=\"130\" onerror=\"this.outerHTML='&lt;span class=\\'pm_noimg\\'&gt;&lt;span class=\\'noimg_text\\'&gt;이미지 준비중&lt;/span&gt;&lt;/span&gt;'\" src=\"https://happybean-phinf.pstatic.net/20220727_149/1658914441786RJO7x_JPEG/%B8%EB%A4%EC123123.jpg?type=f464_260\" width=\"232\"/>,\n",
       "  <img alt=\"\" height=\"130\" onerror=\"this.outerHTML='&lt;span class=\\'pm_noimg\\'&gt;&lt;span class=\\'noimg_text\\'&gt;이미지 준비중&lt;/span&gt;&lt;/span&gt;'\" src=\"https://happybean-phinf.pstatic.net/20220804_11/1659586163107S4idl_JPEG/4_언어치료.jpg?type=f464_260\" width=\"232\"/>,\n",
       "  <img alt=\"\" height=\"130\" onerror=\"this.outerHTML='&lt;span class=\\'pm_noimg\\'&gt;&lt;span class=\\'noimg_text\\'&gt;이미지 준비중&lt;/span&gt;&lt;/span&gt;'\" src=\"https://happybean-phinf.pstatic.net/20220831_185/1661935725001xPsHB_JPEG/E1E1E1E1E1E1_4_E1E1.jpg?type=f464_260\" width=\"232\"/>,\n",
       "  <img alt=\"\" height=\"130\" onerror=\"this.outerHTML='&lt;span class=\\'pm_noimg\\'&gt;&lt;span class=\\'noimg_text\\'&gt;이미지 준비중&lt;/span&gt;&lt;/span&gt;'\" src=\"https://happybean-phinf.pstatic.net/20220831_156/1661935754416gKGWD_JPEG/3.jpg?type=f464_260\" width=\"232\"/>,\n",
       "  <img alt=\"\" height=\"130\" onerror=\"this.outerHTML='&lt;span class=\\'pm_noimg\\'&gt;&lt;span class=\\'noimg_text\\'&gt;이미지 준비중&lt;/span&gt;&lt;/span&gt;'\" src=\"https://happybean-phinf.pstatic.net/20220818_86/16607926904320qLXB_JPEG/1111.jpg?type=f464_260\" width=\"232\"/>,\n",
       "  <img alt=\"자연과 더불어 사는 공간, 안국동 빈티지 한옥 하우스\" data-src=\"https://s.pstatic.net/dthumb.phinf/?src=%22https%3A%2F%2Fs.pstatic.net%2Fshop.phinf%2F20220830_22%2F1661836679745onQPu_JPEG%2Fefws.jpg%22&amp;type=nf340_228\" height=\"114\" onerror=\"this.outerHTML='&lt;span class=\\'pm_noimg\\'&gt;&lt;span class=\\'noimg_text\\'&gt;이미지 준비중&lt;/span&gt;&lt;/span&gt;'\" width=\"170\"/>,\n",
       "  <img alt=\"인테리어 하면서 직접 고른 우리 집 조명 소개\" data-src=\"https://s.pstatic.net/dthumb.phinf/?src=%22https%3A%2F%2Fs.pstatic.net%2Fshop.phinf%2F20220830_176%2F166183677670597JqW_JPEG%2FDSCF1528.jpg%22&amp;type=nf340_228\" height=\"114\" onerror=\"this.outerHTML='&lt;span class=\\'pm_noimg\\'&gt;&lt;span class=\\'noimg_text\\'&gt;이미지 준비중&lt;/span&gt;&lt;/span&gt;'\" width=\"170\"/>,\n",
       "  <img alt=\"아이가 있는 집 인테리어 기록\" data-src=\"https://s.pstatic.net/dthumb.phinf/?src=%22https%3A%2F%2Fs.pstatic.net%2Fshop.phinf%2F20220829_272%2F1661769225447UEFLl_JPEG%2Ffew.jpg%22&amp;type=nf340_228\" height=\"114\" onerror=\"this.outerHTML='&lt;span class=\\'pm_noimg\\'&gt;&lt;span class=\\'noimg_text\\'&gt;이미지 준비중&lt;/span&gt;&lt;/span&gt;'\" width=\"170\"/>,\n",
       "  <img alt=\"소형 구축 아파트 작은 주방, 공간 활용을 위한 선택\" data-src=\"https://s.pstatic.net/dthumb.phinf/?src=%22https%3A%2F%2Fs.pstatic.net%2Fshop.phinf%2F20220830_293%2F1661826548432IaApu_JPEG%2F3r.jpg%22&amp;type=nf340_228\" height=\"114\" onerror=\"this.outerHTML='&lt;span class=\\'pm_noimg\\'&gt;&lt;span class=\\'noimg_text\\'&gt;이미지 준비중&lt;/span&gt;&lt;/span&gt;'\" width=\"170\"/>,\n",
       "  <img alt=\"자주 사용하는 홈카페 용품, 커트러리 소독 방법\" data-src=\"https://s.pstatic.net/dthumb.phinf/?src=%22https%3A%2F%2Fs.pstatic.net%2Fshop.phinf%2F20220829_116%2F1661769212026bzVja_JPEG%2Fere.jpg%22&amp;type=nf340_228\" height=\"114\" onerror=\"this.outerHTML='&lt;span class=\\'pm_noimg\\'&gt;&lt;span class=\\'noimg_text\\'&gt;이미지 준비중&lt;/span&gt;&lt;/span&gt;'\" width=\"170\"/>,\n",
       "  <img alt=\"예쁜 우리 집을 소개하면 홈스타일링 지원금을!\" data-src=\"https://s.pstatic.net/dthumb.phinf/?src=%22https%3A%2F%2Fs.pstatic.net%2Fshop.phinf%2F20220830_271%2F1661828432327xkBDD_JPEG%2F%25B8%25AE%25BA%25F9%25C6%25C7%25B9%25E8%25B3%25CA_1.jpg%22&amp;type=nf340_228\" height=\"114\" onerror=\"this.outerHTML='&lt;span class=\\'pm_noimg\\'&gt;&lt;span class=\\'noimg_text\\'&gt;이미지 준비중&lt;/span&gt;&lt;/span&gt;'\" width=\"170\"/>,\n",
       "  <img alt=\"자랑하고 싶은 살림노하우, 리빙잇템을 소개해주세요\" data-src=\"https://s.pstatic.net/dthumb.phinf/?src=%22https%3A%2F%2Fs.pstatic.net%2Fshop.phinf%2F20220830_199%2F1661828588245FUk0o_JPEG%2Forganic-bowl-g6746cd8d4_1920.jpg%22&amp;type=nf340_228\" height=\"114\" onerror=\"this.outerHTML='&lt;span class=\\'pm_noimg\\'&gt;&lt;span class=\\'noimg_text\\'&gt;이미지 준비중&lt;/span&gt;&lt;/span&gt;'\" width=\"170\"/>,\n",
       "  <img alt=\"안방과 거실 공간을 바꿨어요\" data-src=\"https://s.pstatic.net/dthumb.phinf/?src=%22https%3A%2F%2Fs.pstatic.net%2Fshop.phinf%2F20220826_287%2F1661493872558DTmzI_JPEG%2Fe.jpg%22&amp;type=nf340_228\" height=\"114\" onerror=\"this.outerHTML='&lt;span class=\\'pm_noimg\\'&gt;&lt;span class=\\'noimg_text\\'&gt;이미지 준비중&lt;/span&gt;&lt;/span&gt;'\" width=\"170\"/>,\n",
       "  <img alt=\"파우더룸과 건식 욕실을 합친 리모델링 후기\" data-src=\"https://s.pstatic.net/dthumb.phinf/?src=%22https%3A%2F%2Fs.pstatic.net%2Fshop.phinf%2F20220825_293%2F1661411324527FC2e2_JPEG%2FA.jpg%22&amp;type=nf340_228\" height=\"114\" onerror=\"this.outerHTML='&lt;span class=\\'pm_noimg\\'&gt;&lt;span class=\\'noimg_text\\'&gt;이미지 준비중&lt;/span&gt;&lt;/span&gt;'\" width=\"170\"/>,\n",
       "  <img alt=\"도쿄에서 생활하던 부부의 미적 감각을 담은 집\" data-src=\"https://s.pstatic.net/dthumb.phinf/?src=%22https%3A%2F%2Fs.pstatic.net%2Fshop.phinf%2F20220825_287%2F1661410903563XHjrG_JPEG%2FDSC02934-1r.jpg%22&amp;type=nf340_228\" height=\"114\" onerror=\"this.outerHTML='&lt;span class=\\'pm_noimg\\'&gt;&lt;span class=\\'noimg_text\\'&gt;이미지 준비중&lt;/span&gt;&lt;/span&gt;'\" width=\"170\"/>,\n",
       "  <img alt=\"무료 체험단 오늘 모집 마감!\" data-src=\"https://s.pstatic.net/dthumb.phinf/?src=%22https%3A%2F%2Fs.pstatic.net%2Fshop.phinf%2F20220831_271%2F1661925120916NQ9ML_JPEG%2F%25B9%25AB%25B7%25E1%25C3%25BC%25C7%25E8_7%2528%25C0%25CF%2529.jpg%22&amp;type=nf340_228\" height=\"114\" onerror=\"this.outerHTML='&lt;span class=\\'pm_noimg\\'&gt;&lt;span class=\\'noimg_text\\'&gt;이미지 준비중&lt;/span&gt;&lt;/span&gt;'\" width=\"170\"/>,\n",
       "  <img alt=\"느낌 있는 우드 한 스푼\" data-src=\"https://s.pstatic.net/dthumb.phinf/?src=%22https%3A%2F%2Fs.pstatic.net%2Fshop.phinf%2F20220824_20%2F1661338371693D3KKB_JPEG%2FIMG_4654.jpg%22&amp;type=nf340_228\" height=\"114\" onerror=\"this.outerHTML='&lt;span class=\\'pm_noimg\\'&gt;&lt;span class=\\'noimg_text\\'&gt;이미지 준비중&lt;/span&gt;&lt;/span&gt;'\" width=\"170\"/>,\n",
       "  <img alt=\"에어프라이어 비린내, 간단하게 제거하는 방법\" data-src=\"https://s.pstatic.net/dthumb.phinf/?src=%22https%3A%2F%2Fs.pstatic.net%2Fshop.phinf%2F20220824_181%2F1661338363431IRX2j_JPEG%2Fundefined.jpg%22&amp;type=nf340_228\" height=\"114\" onerror=\"this.outerHTML='&lt;span class=\\'pm_noimg\\'&gt;&lt;span class=\\'noimg_text\\'&gt;이미지 준비중&lt;/span&gt;&lt;/span&gt;'\" width=\"170\"/>,\n",
       "  <img alt=\"빈티지, 클래식으로 꾸민 다가구 주택 인테리어\" data-src=\"https://s.pstatic.net/dthumb.phinf/?src=%22https%3A%2F%2Fs.pstatic.net%2Fshop.phinf%2F20220825_41%2F1661411065536sYyCL_JPEG%2F%25C1%25B6%25C7%25F6%25BC%25BA_%25B4%25C9%25B5%25BF%25B1%25EE%25C6%25E4_13.jpg%22&amp;type=nf340_228\" height=\"114\" onerror=\"this.outerHTML='&lt;span class=\\'pm_noimg\\'&gt;&lt;span class=\\'noimg_text\\'&gt;이미지 준비중&lt;/span&gt;&lt;/span&gt;'\" width=\"170\"/>,\n",
       "  <img alt=\"갤러리 같은 아파트 리모델링\" data-src=\"https://s.pstatic.net/dthumb.phinf/?src=%22https%3A%2F%2Fs.pstatic.net%2Fshop.phinf%2F20220824_141%2F1661337658277hsGtc_JPEG%2Fgr.jpg%22&amp;type=nf340_228\" height=\"114\" onerror=\"this.outerHTML='&lt;span class=\\'pm_noimg\\'&gt;&lt;span class=\\'noimg_text\\'&gt;이미지 준비중&lt;/span&gt;&lt;/span&gt;'\" width=\"170\"/>,\n",
       "  <img alt=\"수납 활용도를 높인 좁은 주방 인테리어\" data-src=\"https://s.pstatic.net/dthumb.phinf/?src=%22https%3A%2F%2Fs.pstatic.net%2Fshop.phinf%2F20220824_236%2F1661338742734sJgvI_JPEG%2Fq2e.jpg%22&amp;type=nf340_228\" height=\"114\" onerror=\"this.outerHTML='&lt;span class=\\'pm_noimg\\'&gt;&lt;span class=\\'noimg_text\\'&gt;이미지 준비중&lt;/span&gt;&lt;/span&gt;'\" width=\"170\"/>,\n",
       "  <img alt=\"귀엽고 감성 뿜뿜하는 유리 컵, 글라스 볼 추천\" data-src=\"https://s.pstatic.net/dthumb.phinf/?src=%22https%3A%2F%2Fs.pstatic.net%2Fshop.phinf%2F20220824_137%2F1661337640882MiAuw_JPEG%2Frjh.jpg%22&amp;type=nf340_228\" height=\"114\" onerror=\"this.outerHTML='&lt;span class=\\'pm_noimg\\'&gt;&lt;span class=\\'noimg_text\\'&gt;이미지 준비중&lt;/span&gt;&lt;/span&gt;'\" width=\"170\"/>,\n",
       "  <img alt=\"전체 리모델링 비포 애프터\" data-src=\"https://s.pstatic.net/dthumb.phinf/?src=%22https%3A%2F%2Fs.pstatic.net%2Fshop.phinf%2F20220825_226%2F1661410716046f8GlN_JPEG%2FKakaoTalk_20220819_095802097_04.jpg%22&amp;type=nf340_228\" height=\"114\" onerror=\"this.outerHTML='&lt;span class=\\'pm_noimg\\'&gt;&lt;span class=\\'noimg_text\\'&gt;이미지 준비중&lt;/span&gt;&lt;/span&gt;'\" width=\"170\"/>,\n",
       "  <img alt=\"자연과 하나 된 은퇴 부부의 공간, 양평에 지은 주택\" data-src=\"https://s.pstatic.net/dthumb.phinf/?src=%22https%3A%2F%2Fs.pstatic.net%2Fshop.phinf%2F20220822_207%2F1661158421018fXmw4_JPEG%2Fgerw.jpg%22&amp;type=nf340_228\" height=\"114\" onerror=\"this.outerHTML='&lt;span class=\\'pm_noimg\\'&gt;&lt;span class=\\'noimg_text\\'&gt;이미지 준비중&lt;/span&gt;&lt;/span&gt;'\" width=\"170\"/>,\n",
       "  <img alt=\"롤케이크 상자로 다양하게 수납하기 #재활용꿀팁\" data-src=\"https://s.pstatic.net/dthumb.phinf/?src=%22https%3A%2F%2Fs.pstatic.net%2Fshop.phinf%2F20220822_75%2F1661158417276trFVO_JPEG%2Fwfq.jpg%22&amp;type=nf340_228\" height=\"114\" onerror=\"this.outerHTML='&lt;span class=\\'pm_noimg\\'&gt;&lt;span class=\\'noimg_text\\'&gt;이미지 준비중&lt;/span&gt;&lt;/span&gt;'\" width=\"170\"/>,\n",
       "  <img alt=\"웨일\" height=\"48\" src=\"data:image/png;base64,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\" width=\"48\"/>,\n",
       "  <img alt=\"꽃\" height=\"50\" src=\"data:image/png;base64,iVBORw0KGgoAAAANSUhEUgAAAF4AAABkCAMAAAA47XeXAAAAgVBMVEUAAADN5PdGm99Gm99Gm99Gm99Gm95Gm99Gm99Gm99Gm99Gm99Gm99Gm99Gm99Gm99Gm99Gm99Gm99Gm99Gm99Gm99Gm99Gmt9Gm99Gm99Gm99Gm95Gm99Gm99Gm95Gm99Hm99Gm99Gm9/////3+/5cp+LO5PfR5/fO5fdcp+P7/f/zv5GhAAAAInRSTlMA/v7vH9u5qJNgGwb6l8a9uqF9WFUyLxYMCtbVmLCwe4OCj8gzEgAAA0NJREFUaN7NmmFz4iAQhkkwMTHGWrWtWvWuq8mF+/8/8Ey2nb0OhSwQZnw+MHQ7pbjAy2s2gsuiLPJMLpcyy4tyISZltnmHbxw3MzEVr/MUNNL5q5iCt2ccXCN9fhPB7CQYkTsRRlWDlboSAexzGCHfC28OKxhldfDOzBMwePLNTw0sauHFFphshQcLCUwkaQRfXYBPSkrEUBdv3jezcXXhw1ciUhc+fCUidQlH7qzqEk5d2dQlnHxvU5dwVgdXdSGclaiGyamt6hLO1qIu4ZASzcFE092SBprk1jagulvXAAw/qb5N7m176xQYmOPoLymYaK/X65/PNhlagE6LGUhfRM8FjNzuf/73//bHmInzoJEpjMyeWpp9RzGz/PT6+QvMNO2Q+67PPeYZY5h7jDVg5OM+/BGikd13JfDAj/Ad1WLMyEyUwKPT00ypN1GKAljQJtFiFgqRe86eYhbWIvPPPR5d+9pKiIgUwKNJdHXBvW9jyRye1EWLWYfnJcd141Byspizz7gbUyWDuqiW0v15D9g3ZgF86JwyKUgUHJaATUmS5rsEdkkTZLjZS8Alw+skFr8Nl6H6uosShaKOp3Zo+/jgFTDe+wcSfv0yFGfQaLX7tDO0reXOPRuMCG4Q11Y3IiYblWgzS7R+h31qdRtlGB7zikeUckz+AB3a8FuMqD7Cd2nhUHLOEIkLubQIkEuLxIdwEwUy3HyXxsbgPMJcGuGox+TSIugxuTQ+KHIaAS5N92eIIuMT5tJoPfHy5q9yKoXLelLuKRri0mjMQdhwTPw6Sv8pzKXhFyhNilEwkSCXRrnAnaPnJdyl0UrqXircpeHVglnv+62K4NJo3lFcGmWd79KO7OQoXAE8XNO6tIQGxj7fpfHTwk8RubQLWEGvgTNGKzj01fixunCMCCYcvSSlaFwUyKVx86J3bczpUR3zimq1LqdosAUbJF54ar+uk5Gju436mPTk8ZAXFdO93HRYTesUVgf3B+y0XdxLfdVputmfKp/iBtNjyl3c0kzUwtJIWewIPvAL9LOyWLsV9WAps3VRzh6hJBm3oOqsRKfHLGYzS/GP+iLBuBKdqkd+iWPkFZTHf4Em4us/uhI5qss/6zK5u8+AXpwAAAAASUVORK5CYII=\" width=\"47\"/>],\n",
       " bs4.element.ResultSet)"
      ]
     },
     "execution_count": 14,
     "metadata": {},
     "output_type": "execute_result"
    }
   ],
   "source": [
    "'''\n",
    "정보를 가져오고자 하는 url 정의\n",
    "url 정보로 requests로 정보 요청\n",
    "text 정보를 html로 변환\n",
    "html에서 우리가 필요한 정보만 선별\n",
    "'''\n",
    "# url정의\n",
    "url = 'https://www.naver.com/'\n",
    "\n",
    "# requsts로 url에 정보요청\n",
    "resp = requests.get(url)\n",
    "\n",
    "# 정보를 html 변환 (보기 쉽게)\n",
    "html = BeautifulSoup(resp.text, 'html.parser')\n",
    "\n",
    "# html 내에서 우리가 보고 싶은 정보만 선별\n",
    "html.select('img'), type(html.select('img.news_logo'))"
   ]
  },
  {
   "cell_type": "markdown",
   "metadata": {},
   "source": [
    "#### 실제 개발자가 작성한 코드로 확인된다\n",
    "> 정제되지 않은 데이터로 가독성이 좋지 않음  \n",
    "우리는 이 중에서 우리가 원하는 정보를 선별해서 가져오는 작업을 진행합니다.  \n",
    "그러기에 html의 기본 구성을 살펴보도록 하겠습니다.  "
   ]
  },
  {
   "cell_type": "markdown",
   "metadata": {},
   "source": [
    "#### 웹 페이지의 구성\n",
    "> **HTML(Hyper Text Markup Language)**  \n",
    "www 를 구성하는데 사용하는 국제표준 언어로서 컨텐츠와 레이아웃을 담고 있다\n",
    "\n",
    "> **<태그>** 내용 **</태그>**  \n",
    "<tag이름 class=\"class이름1 class이름2\" id=\"주민번호\" href=\"주소\"></tag이름>\n",
    "\n",
    "> 형태나 속성을 묘사하기 위한 구조적 언어 : HTML, CSS (계층이 있음)  \n",
    "웹의 작동 및 제어를 위한 프로그래밍 언어 :  Js"
   ]
  },
  {
   "cell_type": "markdown",
   "metadata": {},
   "source": [
    "#### 셀렉터\n",
    "> 용도 : html에서 내가 원하는 내용을 찾아내기 위해서  \n",
    "<span class=\"news\" id=\"1234\">현대모비스 뉴스1</span>  \n",
    "<span class=\"product\" id=\"1235\">현대모비스 뉴스2</span>  \n",
    "\n",
    "> 단일 셀렉터 html.select('span')\n",
    ">> <span class=\"news\" id=\"1234\">현대모비스 뉴스1</span>  \n",
    "<span class=\"product\" id=\"1235\">현대모비스 뉴스2</span>  \n",
    "\n",
    "> 클래스 포함 셀렉터 html.select('span.news')  \n",
    ">> <span class=\"news\" id=\"1234\">현대모비스 뉴스1</span>  \n",
    "\n",
    "> id 포함 셀렉터 html.select('span#1235')  \n",
    ">> <span class=\"product\" id=\"1235\">현대모비스 뉴스2</span>  "
   ]
  },
  {
   "cell_type": "markdown",
   "metadata": {},
   "source": [
    "#### 복합 셀렉터\n",
    "<span>1</span>  \n",
    "<span class=\"txt\">2</span>  \n",
    "<em class=\"txt\">3</em>  \n",
    "\n",
    "> 셀렉터 만들어봅시다\n",
    "만약에 1, 2 ---> \n",
    "html.select('span')\n",
    "2만 가지고 오기 \n",
    "html.selcet('span.txt')\n",
    "3만 가지고 오기\n",
    "html.select('em')\n",
    "\n",
    "> 태그 이름이 span이고 클래스 이름은 txt인 라인을 찾고 싶다. : span.txt  \n",
    "> em 태그 중에서 class가 txt 인 라인을 찾고 싶다. : em.txt  \n",
    "\n",
    "#### 경로 셀렉터\n",
    "<ul>\n",
    "    <li><span>이걸 찾으려면?</span></li>\n",
    "</ul>\n",
    "<span>이건 아님</span>\n",
    "\n",
    "> ul 태그안 li 태그 안 span 라인을 찾는다  \n",
    "html.select('ul > li > span')\n",
    "ul > li > span 혹은 ul li span"
   ]
  },
  {
   "cell_type": "markdown",
   "metadata": {},
   "source": [
    "### 다음 뉴스페이지 뉴스 헤더 크롤링"
   ]
  },
  {
   "cell_type": "code",
   "execution_count": 34,
   "metadata": {
    "ExecuteTime": {
     "end_time": "2022-06-05T08:40:22.833402Z",
     "start_time": "2022-06-05T08:40:22.454630Z"
    }
   },
   "outputs": [
    {
     "name": "stdout",
     "output_type": "stream",
     "text": [
      "주중 한국대사 \"중국 외교부장에게 '담대한 구상' 소개했다\"\n",
      "50년 후 흔한 나이 62세.. 노인이 '일할 사람'보다 많다\n",
      "대만 증시, 글로벌 경기 불투명감에 0.08% 속락 마감[올댓차이나]\n",
      "\"경기도 광역버스 실제 '증차'..입석 26%가량은 잔존할 듯\"[일문일답]\n",
      "한국노총 \"11월5일 노동자대회 개최..노동 개악 저지\"\n",
      "안 풀리는 수도권 광역버스 입석난..79개 노선에 216회 추가 운행\n",
      "\"긴급하지 않은 신고는 110에\"..소방·경찰 모두 신고접수 인력 늘려\n",
      "IS, 자금줄 확보 위해  NFT에 눈독..\"통제 어려워\"\n",
      "韓·獨·英·日·스웨덴, 전기차 차별 공조 관련 워싱턴서 첫 실무급 회동\n",
      "이원석 \"총장 되면 '감찰총장' 말 듣고싶어..제식구 감싸기 제일 싫다\"\n",
      "與 '수원 세모녀' 사각 보완..개인회생·연금대부 정보 공유\n",
      "에너지 대란·물가급등이 시위로 번질라..유럽 각국, 대응책 마련 부산\n",
      "'역대급' 힌남노 북상..KT·LG유플·네카오 등 '재택근무' 권고\n",
      "민주당 호남 몫 최고위원에 교수 임명..'기대'·'우려' 교차\n",
      "코로나보다 두려운 힌남노..태풍 대비 임시검사소 33곳 문 닫아\n",
      "과거 '매미' 직격탄 맞은 마산지역..\"이제는 유비무환\"[태풍 힌남노]\n",
      "'초속 몇 미터 태풍'.. 언론, 좀 쉽게 쓸 필요가 있다\n",
      "이륜자동차 전용주차 공간 만들어진다\n",
      "산업부 과장급 또 민간으로..핵심 인력 유출 지속\n",
      "아르테미스 발사 불발 원인 '연료 누출', 수동명령 실수 때문으로 추정\n",
      "[오마이포토] \"민생외면·야당탄압 규탄\" 피켓든 민주당\n",
      "민주당 의총 \"이재명, 檢 출석 반대\"..\"그래도 출석해야\" 이견도\n",
      "\"힌남노 뚫고 출근해야 하는데\"..전기차 안전운행 팁은?[궁즉답]\n",
      "[뉴스1 PICK]민주, 이재명에 검찰 불출석 요청..'김건희 특검법' 추진\n",
      "[취재파일] 머라이어 캐리 출원 '크리스마스의 여왕'은 상표가 될 수 있을까?\n",
      "\"평생 인터넷 안 써본 탈북민, 韓서 스타 유튜버 됐다\" CNN 조명\n",
      "[World Now] 일본 오키나와 강풍 피해.. \"트럭 넘어질 수준\"\n",
      "김건희 여사 특검법..\"국회 통과 어렵지만 민주당 최선의 카드\"[백운기의 시사1번지]\n",
      "태풍 힌남노 북상중, 서울은 비\n",
      "달러·원 환율 1371.4원 마감 '13년5개월 만에 최고치'\n",
      "하얀 수련과 어리연\n",
      "\"전 안 부쳐도 된다\"..9가지로 줄인 한가위 차례상\n",
      "뉴스홈\n",
      "사회\n",
      "정치\n",
      "경제\n",
      "국제\n",
      "문화\n",
      "IT\n",
      "포토\n",
      "언론사별 뉴스\n",
      "배열이력\n",
      "전체뉴스\n",
      "연재\n",
      "팩트체크\n"
     ]
    }
   ],
   "source": [
    "# 다음 뉴스 페이지 크롤링\n",
    "# url정의\n",
    "url = 'https://news.daum.net/'\n",
    "\n",
    "# requsts로 url에 정보요청\n",
    "data = requests.get(url)\n",
    "\n",
    "# 정보를 html 변환 (보기 쉽게)\n",
    "html = BeautifulSoup(data.text, 'html.parser')\n",
    "html\n",
    "# html 내에서 뉴스헤더 선별\n",
    "for text in html.select('a.link_txt'):\n",
    "    print(text.text.strip())"
   ]
  },
  {
   "cell_type": "markdown",
   "metadata": {},
   "source": [
    "### 다음에서 로또번호 혹은 로또로 검색해서 표시되는 로또번호 크롤링 해오기"
   ]
  },
  {
   "cell_type": "code",
   "execution_count": 50,
   "metadata": {
    "ExecuteTime": {
     "end_time": "2022-06-05T08:49:50.566782Z",
     "start_time": "2022-06-05T08:49:49.806605Z"
    }
   },
   "outputs": [
    {
     "name": "stdout",
     "output_type": "stream",
     "text": [
      "6 7 22 32 35 36 19 "
     ]
    }
   ],
   "source": [
    "# 다음에서 로또번호 혹은 로또로 검색해서 표시되는 로또번호 크롤링 해오기\n",
    "url = 'https://search.daum.net/search?w=tot&DA=YZR&t__nil_searchbox=btn&sug=&sugo=&sq=&o=&q=%EB%A1%9C%EB%98%90%EB%B2%88%ED%98%B8'\n",
    "\n",
    "# requsts로 url에 정보요청\n",
    "resp = requests.get(url)\n",
    "\n",
    "# 정보를 html 변환 (보기 쉽게)\n",
    "html = BeautifulSoup(resp.text, 'html.parser')\n",
    "\n",
    "# 필요정보 선별\n",
    "for item in html.select('div.lottonum > span'):\n",
    "    try:\n",
    "        print(int(item.text), end = ' ')\n",
    "    except:\n",
    "        continue\n",
    "    "
   ]
  },
  {
   "cell_type": "markdown",
   "metadata": {
    "ExecuteTime": {
     "end_time": "2022-06-05T08:49:06.402572Z",
     "start_time": "2022-06-05T08:49:06.394988Z"
    }
   },
   "source": [
    "## 패턴 URL 크롤링\n",
    "앞으로는 패턴을 순환하는 크롤링이 진행이 되는데 서비스 제공자가 이를 감지하고 기계적인 접속을 차단하는 경우가 많습니다.  \n",
    "이를 해결하기 위한 여러가지 방법을 소개합니다."
   ]
  },
  {
   "cell_type": "code",
   "execution_count": 52,
   "metadata": {
    "ExecuteTime": {
     "end_time": "2022-06-05T09:05:39.275949Z",
     "start_time": "2022-06-05T09:05:39.266250Z"
    }
   },
   "outputs": [
    {
     "data": {
      "text/plain": [
       "200"
      ]
     },
     "execution_count": 52,
     "metadata": {},
     "output_type": "execute_result"
    }
   ],
   "source": [
    "# requests 요청 객체의 상태코드\n",
    "resp.status_code"
   ]
  },
  {
   "cell_type": "code",
   "execution_count": 51,
   "metadata": {
    "ExecuteTime": {
     "end_time": "2022-06-05T09:05:08.761089Z",
     "start_time": "2022-06-05T09:05:08.752804Z"
    }
   },
   "outputs": [
    {
     "name": "stdout",
     "output_type": "stream",
     "text": [
      "정상적인 접근\n"
     ]
    }
   ],
   "source": [
    "# HTTP 요청 시 상태코드 확인\n",
    "if resp.status_code != requests.codes.NOT_FOUND:\n",
    "    print(\"정상적인 접근\")"
   ]
  },
  {
   "cell_type": "code",
   "execution_count": null,
   "metadata": {},
   "outputs": [],
   "source": [
    "resp.codes.ok\n",
    "# 100 우리 이런정보 내주는거야\n",
    "# 200 성공\n",
    "# 300 우리 이 사이트 이리루 이사했어 일루가\n",
    "# 400 유저가 요청을 잘못한경우\n",
    "# 500 서버 문제\n",
    "\n",
    "# 크롤링 시 문제가 없을 경우에만 진행\n",
    "if resp.status_code == requests.codes.ok:\n",
    "    # 크롤링 코드 진행\n",
    "elif resp.status_code == requests.codes.NOT_FOUND:\n",
    "    # 경고메세지 출력 등등등"
   ]
  },
  {
   "cell_type": "code",
   "execution_count": null,
   "metadata": {},
   "outputs": [],
   "source": [
    "# 차단막는 코드\n",
    "# 난수 생성 후 요청 작업에 시간차를 둠\n",
    "seed = np.random.randint(100)\n",
    "np.random.seed(seed)\n",
    "a = np.random.randint(5)\n",
    "time.sleep(a)"
   ]
  },
  {
   "cell_type": "code",
   "execution_count": 53,
   "metadata": {},
   "outputs": [
    {
     "name": "stdout",
     "output_type": "stream",
     "text": [
      "0\n",
      "1\n",
      "2\n",
      "3\n",
      "4\n",
      "5\n",
      "6\n",
      "7\n",
      "8\n",
      "9\n"
     ]
    }
   ],
   "source": [
    "for i in range(10):\n",
    "    seed = np.random.randint(100)\n",
    "    np.random.seed(seed)\n",
    "    a = np.random.randint(5)\n",
    "    time.sleep(a)\n",
    "    print(i)"
   ]
  },
  {
   "cell_type": "markdown",
   "metadata": {},
   "source": [
    "### 다음에서 로또번호 가져와 볼께요 몽땅 다 가져옵니다 (10페이지)"
   ]
  },
  {
   "cell_type": "code",
   "execution_count": 67,
   "metadata": {
    "ExecuteTime": {
     "end_time": "2022-06-05T08:52:53.654809Z",
     "start_time": "2022-06-05T08:52:30.018751Z"
    }
   },
   "outputs": [
    {
     "name": "stdout",
     "output_type": "stream",
     "text": [
      "10 23 29 33 37 40 \n",
      "9 13 21 25 32 42 \n",
      "11 16 19 21 27 31 \n",
      "14 27 30 31 40 42 \n",
      "16 24 29 40 41 42 \n",
      "14 15 26 27 40 42 \n",
      "2 9 16 25 26 40 \n",
      "8 19 25 34 37 39 \n",
      "2 4 16 17 36 39 \n",
      "9 25 30 33 41 44 \n",
      "[10, 23, 29, 33, 37, 40, 9, 13, 21, 25, 32, 42, 11, 16, 19, 21, 27, 31, 14, 27, 30, 31, 40, 42, 16, 24, 29, 40, 41, 42, 14, 15, 26, 27, 40, 42, 2, 9, 16, 25, 26, 40, 8, 19, 25, 34, 37, 39, 2, 4, 16, 17, 36, 39, 9, 25, 30, 33, 41, 44]\n"
     ]
    }
   ],
   "source": [
    "li = []\n",
    "for cnt in range(1, 11):\n",
    "    string = 'https://search.daum.net/search?w=tot&DA=LOT&rtmaxcoll=LOT&&q={}회차%20로또'.format(cnt)\n",
    "    \n",
    "    seed = np.random.randint(100)\n",
    "    np.random.seed(seed)\n",
    "    a = np.random.randint(5)\n",
    "    time.sleep(a)\n",
    "    \n",
    "    resp = requests.get(string)\n",
    "\n",
    "    html = BeautifulSoup(resp.text, 'html.parser')\n",
    "\n",
    "    for item in html.select('div.lottonum > span')[ : -2]:\n",
    "        print(item.text, end = ' ')\n",
    "        li.append(int(item.text))\n",
    "    \n",
    "    print()\n",
    "print(li)"
   ]
  },
  {
   "cell_type": "code",
   "execution_count": 68,
   "metadata": {
    "ExecuteTime": {
     "end_time": "2022-06-05T08:57:21.282339Z",
     "start_time": "2022-06-05T08:57:21.166249Z"
    }
   },
   "outputs": [
    {
     "data": {
      "text/plain": [
       "array([[10, 23, 29, 33, 37, 40],\n",
       "       [ 9, 13, 21, 25, 32, 42],\n",
       "       [11, 16, 19, 21, 27, 31],\n",
       "       [14, 27, 30, 31, 40, 42],\n",
       "       [16, 24, 29, 40, 41, 42],\n",
       "       [14, 15, 26, 27, 40, 42],\n",
       "       [ 2,  9, 16, 25, 26, 40],\n",
       "       [ 8, 19, 25, 34, 37, 39],\n",
       "       [ 2,  4, 16, 17, 36, 39],\n",
       "       [ 9, 25, 30, 33, 41, 44]])"
      ]
     },
     "execution_count": 68,
     "metadata": {},
     "output_type": "execute_result"
    }
   ],
   "source": [
    "# 데이터 시각화까지\n",
    "lotto = np.array(li).reshape(-1, 6)\n",
    "lotto"
   ]
  },
  {
   "cell_type": "code",
   "execution_count": 73,
   "metadata": {
    "ExecuteTime": {
     "end_time": "2022-06-05T08:58:02.066263Z",
     "start_time": "2022-06-05T08:58:02.043448Z"
    }
   },
   "outputs": [
    {
     "data": {
      "text/html": [
       "<div>\n",
       "<style scoped>\n",
       "    .dataframe tbody tr th:only-of-type {\n",
       "        vertical-align: middle;\n",
       "    }\n",
       "\n",
       "    .dataframe tbody tr th {\n",
       "        vertical-align: top;\n",
       "    }\n",
       "\n",
       "    .dataframe thead th {\n",
       "        text-align: right;\n",
       "    }\n",
       "</style>\n",
       "<table border=\"1\" class=\"dataframe\">\n",
       "  <thead>\n",
       "    <tr style=\"text-align: right;\">\n",
       "      <th></th>\n",
       "      <th>0</th>\n",
       "      <th>1</th>\n",
       "      <th>2</th>\n",
       "      <th>3</th>\n",
       "      <th>4</th>\n",
       "      <th>5</th>\n",
       "    </tr>\n",
       "  </thead>\n",
       "  <tbody>\n",
       "    <tr>\n",
       "      <th>1회차</th>\n",
       "      <td>10</td>\n",
       "      <td>23</td>\n",
       "      <td>29</td>\n",
       "      <td>33</td>\n",
       "      <td>37</td>\n",
       "      <td>40</td>\n",
       "    </tr>\n",
       "    <tr>\n",
       "      <th>2회차</th>\n",
       "      <td>9</td>\n",
       "      <td>13</td>\n",
       "      <td>21</td>\n",
       "      <td>25</td>\n",
       "      <td>32</td>\n",
       "      <td>42</td>\n",
       "    </tr>\n",
       "    <tr>\n",
       "      <th>3회차</th>\n",
       "      <td>11</td>\n",
       "      <td>16</td>\n",
       "      <td>19</td>\n",
       "      <td>21</td>\n",
       "      <td>27</td>\n",
       "      <td>31</td>\n",
       "    </tr>\n",
       "    <tr>\n",
       "      <th>4회차</th>\n",
       "      <td>14</td>\n",
       "      <td>27</td>\n",
       "      <td>30</td>\n",
       "      <td>31</td>\n",
       "      <td>40</td>\n",
       "      <td>42</td>\n",
       "    </tr>\n",
       "    <tr>\n",
       "      <th>5회차</th>\n",
       "      <td>16</td>\n",
       "      <td>24</td>\n",
       "      <td>29</td>\n",
       "      <td>40</td>\n",
       "      <td>41</td>\n",
       "      <td>42</td>\n",
       "    </tr>\n",
       "    <tr>\n",
       "      <th>6회차</th>\n",
       "      <td>14</td>\n",
       "      <td>15</td>\n",
       "      <td>26</td>\n",
       "      <td>27</td>\n",
       "      <td>40</td>\n",
       "      <td>42</td>\n",
       "    </tr>\n",
       "    <tr>\n",
       "      <th>7회차</th>\n",
       "      <td>2</td>\n",
       "      <td>9</td>\n",
       "      <td>16</td>\n",
       "      <td>25</td>\n",
       "      <td>26</td>\n",
       "      <td>40</td>\n",
       "    </tr>\n",
       "    <tr>\n",
       "      <th>8회차</th>\n",
       "      <td>8</td>\n",
       "      <td>19</td>\n",
       "      <td>25</td>\n",
       "      <td>34</td>\n",
       "      <td>37</td>\n",
       "      <td>39</td>\n",
       "    </tr>\n",
       "    <tr>\n",
       "      <th>9회차</th>\n",
       "      <td>2</td>\n",
       "      <td>4</td>\n",
       "      <td>16</td>\n",
       "      <td>17</td>\n",
       "      <td>36</td>\n",
       "      <td>39</td>\n",
       "    </tr>\n",
       "    <tr>\n",
       "      <th>10회차</th>\n",
       "      <td>9</td>\n",
       "      <td>25</td>\n",
       "      <td>30</td>\n",
       "      <td>33</td>\n",
       "      <td>41</td>\n",
       "      <td>44</td>\n",
       "    </tr>\n",
       "  </tbody>\n",
       "</table>\n",
       "</div>"
      ],
      "text/plain": [
       "       0   1   2   3   4   5\n",
       "1회차   10  23  29  33  37  40\n",
       "2회차    9  13  21  25  32  42\n",
       "3회차   11  16  19  21  27  31\n",
       "4회차   14  27  30  31  40  42\n",
       "5회차   16  24  29  40  41  42\n",
       "6회차   14  15  26  27  40  42\n",
       "7회차    2   9  16  25  26  40\n",
       "8회차    8  19  25  34  37  39\n",
       "9회차    2   4  16  17  36  39\n",
       "10회차   9  25  30  33  41  44"
      ]
     },
     "execution_count": 73,
     "metadata": {},
     "output_type": "execute_result"
    }
   ],
   "source": [
    "# 데이터프레임으로 저장\n",
    "df = pd.DataFrame(data = lotto, index = [\"{}회차\".format(x) for x in range(1, 11)])\n",
    "df"
   ]
  },
  {
   "cell_type": "code",
   "execution_count": 76,
   "metadata": {},
   "outputs": [
    {
     "data": {
      "image/png": "[encoded data removed]",
      "text/plain": [
       "<Figure size 864x432 with 1 Axes>"
      ]
     },
     "metadata": {
      "needs_background": "light"
     },
     "output_type": "display_data"
    }
   ],
   "source": [
    "plt.figure(figsize = (12, 6))\n",
    "sns.countplot(li)\n",
    "plt.show()"
   ]
  },
  {
   "cell_type": "markdown",
   "metadata": {},
   "source": [
    "### 네이버 키워드로 검색한 결과를 크롤링"
   ]
  },
  {
   "cell_type": "code",
   "execution_count": null,
   "metadata": {
    "ExecuteTime": {
     "end_time": "2022-04-25T02:48:28.017099Z",
     "start_time": "2022-04-25T02:48:27.997354Z"
    },
    "scrolled": true
   },
   "outputs": [],
   "source": []
  },
  {
   "cell_type": "code",
   "execution_count": 89,
   "metadata": {
    "ExecuteTime": {
     "end_time": "2022-06-05T09:10:48.709407Z",
     "start_time": "2022-06-05T09:10:40.136515Z"
    },
    "scrolled": true
   },
   "outputs": [
    {
     "name": "stdout",
     "output_type": "stream",
     "text": [
      "['천재적인 두뇌와 자폐스펙트럼을 동시에 가진 신입 변호사 우영우(박은빈 분)의 대형 로펌 생존기', ' [ 제주도의 푸른밤]   Composed by 최성원  Lyrics by 최성원  Arranged by 안신애   Piano 노영심  Guitar 정인성  Prgramming & Background vocals 안신애   Recorded at doobdoob studio  Mixed by 윤정오 at momo studio  Mastered by 박정언 at HONEYBUTTER studio  Cover Artwork by KT Y 아티스트 유보라 Cover Designed by 백서영 ', '최고의 파일럿이자 전설적인 인물 매버릭(톰 크루즈)은 자신이 졸업한 훈련학교 교관으로 발탁된다. 그의 명성을 모르던 팀원들은 매버릭의 지시를 무시하지만 실전을 방불케 하는 상공 훈련에서 눈으로 봐도 믿기 힘든 전설적인 조종 실력에 모두가 압도된다. 매버릭의 지휘아래 견고한 팀워크를 쌓아가던 팀원들에게 국경을 뛰어넘는 위험한 임무가 주어지자 매버릭은 자신이 가르친 동료들과 함께 마지막이 될 지 모를 하늘 위 비행에 나서는데…', '가리봉동 소탕작전 후 4년 뒤, 금천서 강력반은 베트남으로 도주한 용의자를 인도받아 오라는 미션을 받는다. 괴물형사 ‘마석도’(마동석)와 ‘전일만’(최귀화) 반장은 현지 용의자에게서 수상함을 느끼고, 그의 뒤에 무자비한 악행을 벌이는 ‘강해상’(손석구)이 있음을 알게 된다. ‘마석도’와 금천서 강력반은 한국과 베트남을 오가며 역대급 범죄를 저지르는 ‘강해상’을 본격적으로 쫓기 시작하는데... 나쁜 놈들 잡는 데 국경 없다! 통쾌하고 화끈한 범죄 소탕 작전이 다시 펼쳐진다!', '456억 원의 상금이 걸린 의문의 서바이벌에 참가한 사람들이 최후의 승자가 되기 위해 목숨을 걸고 극한의 게임에 도전하는 이야기를 담은 넷플릭스 시리즈']\n"
     ]
    }
   ],
   "source": [
    "# url 정의\n",
    "content_list = ['이상한 변호사 우영우', '탑건', '범죄도시', '오징어게임']\n",
    "\n",
    "desc = []\n",
    "\n",
    "for content in content_list:\n",
    "    url = 'https://search.naver.com/search.naver?where=nexearch&sm=top_hty&fbm=1&ie=utf8&query={}'.format(content)\n",
    "    \n",
    "    seed = np.random.randint(100)\n",
    "    np.random.seed(seed)\n",
    "    a = np.random.randint(5)\n",
    "    time.sleep(a)\n",
    "    \n",
    "    resp = requests.get(url)\n",
    "    html = BeautifulSoup(resp.text, 'html.parser')\n",
    "    \n",
    "    for item in html.select('div.text_expand > span.desc'):\n",
    "        desc.append(item.text)\n",
    "print(desc)"
   ]
  },
  {
   "cell_type": "markdown",
   "metadata": {
    "id": "L--NnRPK9LAN",
    "slideshow": {
     "slide_type": "slide"
    }
   },
   "source": [
    "## 크롤링 결과에서 html 속성 접근"
   ]
  },
  {
   "cell_type": "code",
   "execution_count": null,
   "metadata": {
    "ExecuteTime": {
     "end_time": "2022-06-05T09:12:06.784317Z",
     "start_time": "2022-06-05T09:12:02.268809Z"
    },
    "scrolled": true
   },
   "outputs": [],
   "source": []
  },
  {
   "cell_type": "markdown",
   "metadata": {
    "id": "P_ssRYoV88a7",
    "slideshow": {
     "slide_type": "slide"
    }
   },
   "source": [
    "가져온 데이터에 접근을 하는 방식 자체는 판다스 색인처럼 결과값을 확인하며 진행하는 것이 가장 좋습니다."
   ]
  },
  {
   "cell_type": "markdown",
   "metadata": {
    "ExecuteTime": {
     "end_time": "2021-09-27T00:05:01.376165Z",
     "start_time": "2021-09-27T00:05:01.368066Z"
    }
   },
   "source": [
    "## 관심있는 개별종목의 시가총액, 외국인 소진률, PER, PBR 가져오기 실습"
   ]
  },
  {
   "cell_type": "code",
   "execution_count": 138,
   "metadata": {
    "ExecuteTime": {
     "end_time": "2022-04-25T06:21:43.968562Z",
     "start_time": "2022-04-25T06:21:38.408853Z"
    }
   },
   "outputs": [],
   "source": [
    "# url 정의\n",
    "url = 'https://finance.naver.com/item/main.naver?code=005930'\n",
    "# requests 요청\n",
    "resp = requests.get(url)\n",
    "\n",
    "# html 변환\n",
    "html = BeautifulSoup(resp.text, 'html.parser')"
   ]
  },
  {
   "cell_type": "code",
   "execution_count": 147,
   "metadata": {},
   "outputs": [
    {
     "name": "stdout",
     "output_type": "stream",
     "text": [
      "[]\n"
     ]
    }
   ],
   "source": [
    "# 시가총액, 외국인소진률, PER, PBR\n",
    "# 시가총액\n",
    "li = []\n",
    "# 시가총액\n",
    "a = html.select('em#_market_sum')[0].text.strip()\n",
    "a = a.replace('\\n', '')\n",
    "a = a.replace('\\t', '')\n",
    "li.append(a)\n",
    "\n",
    "# 외국인소진율(경로셀렉터)\n",
    "print(html.select('#tab_con1 > div:nth-child(3) > table > tr:nth-child(1) > td > em'))\n",
    " \n",
    "# li.append(b)\n",
    "\n",
    "# # per\n",
    "# c = html.select('td > em#_per')[0].text\n",
    "# li.append(c)\n",
    "\n",
    "# # pbr\n",
    "# d = html.select('td > em#_pbr')[0].text\n",
    "# li.append(d)\n",
    "\n",
    "# # 종목명\n",
    "# print(li)"
   ]
  },
  {
   "cell_type": "markdown",
   "metadata": {},
   "source": [
    "#### 여러 종목의 시가총액, 외국인 소진률, PER, PBR 한꺼번에 가져오기"
   ]
  },
  {
   "cell_type": "code",
   "execution_count": 137,
   "metadata": {
    "ExecuteTime": {
     "end_time": "2021-09-27T00:52:30.940704Z",
     "start_time": "2021-09-27T00:52:27.088491Z"
    }
   },
   "outputs": [
    {
     "data": {
      "text/html": [
       "<div>\n",
       "<style scoped>\n",
       "    .dataframe tbody tr th:only-of-type {\n",
       "        vertical-align: middle;\n",
       "    }\n",
       "\n",
       "    .dataframe tbody tr th {\n",
       "        vertical-align: top;\n",
       "    }\n",
       "\n",
       "    .dataframe thead th {\n",
       "        text-align: right;\n",
       "    }\n",
       "</style>\n",
       "<table border=\"1\" class=\"dataframe\">\n",
       "  <thead>\n",
       "    <tr style=\"text-align: right;\">\n",
       "      <th></th>\n",
       "      <th>시가총액</th>\n",
       "      <th>외국인소진율</th>\n",
       "      <th>per</th>\n",
       "      <th>pbr</th>\n",
       "    </tr>\n",
       "  </thead>\n",
       "  <tbody>\n",
       "    <tr>\n",
       "      <th>005930</th>\n",
       "      <td>340조8,746</td>\n",
       "      <td>49.76%</td>\n",
       "      <td>8.66</td>\n",
       "      <td>1.22</td>\n",
       "    </tr>\n",
       "    <tr>\n",
       "      <th>002020</th>\n",
       "      <td>3,239</td>\n",
       "      <td>10.17%</td>\n",
       "      <td>2.72</td>\n",
       "      <td>0.39</td>\n",
       "    </tr>\n",
       "    <tr>\n",
       "      <th>323410</th>\n",
       "      <td>12조2,015</td>\n",
       "      <td>13.63%</td>\n",
       "      <td>56.76</td>\n",
       "      <td>2.19</td>\n",
       "    </tr>\n",
       "  </tbody>\n",
       "</table>\n",
       "</div>"
      ],
      "text/plain": [
       "             시가총액  외국인소진율    per   pbr\n",
       "005930  340조8,746  49.76%   8.66  1.22\n",
       "002020      3,239  10.17%   2.72  0.39\n",
       "323410   12조2,015  13.63%  56.76  2.19"
      ]
     },
     "execution_count": 137,
     "metadata": {},
     "output_type": "execute_result"
    }
   ],
   "source": [
    "# 종목리스트 정의\n",
    "content_list = ['005930', '002020', '323410']\n",
    "\n",
    "li = []\n",
    "\n",
    "for content in content_list:\n",
    "    # url 정의\n",
    "    url = f'https://finance.naver.com/item/main.naver?code={content}'\n",
    "    \n",
    "    # 딜레이 시간 -> 난수 이용해서 딜레이 시간 반복마다 다르게 \n",
    "    seed = np.random.randint(100)\n",
    "    np.random.seed(seed)\n",
    "    a = np.random.randint(5)\n",
    "    time.sleep(a)\n",
    "    \n",
    "    # requests 요청\n",
    "    resp = requests.get(url)\n",
    "    \n",
    "    # html 변환\n",
    "    html = BeautifulSoup(resp.text, 'html.parser')\n",
    "    \n",
    "    # 시가총액\n",
    "    a = html.select('em#_market_sum')[0].text.strip()\n",
    "    a = a.replace('\\n', '')\n",
    "    a = a.replace('\\t', '')\n",
    "    li.append(a)\n",
    "\n",
    "    # 외국인소진율(경로셀렉터)\n",
    "    b = html.select('div.gray > table.lwidth > tr > td > em')[2].text\n",
    "    li.append(b)\n",
    "\n",
    "    # per\n",
    "    c = html.select('td > em#_per')[0].text\n",
    "    li.append(c)\n",
    "\n",
    "    # pbr\n",
    "    d = html.select('td > em#_pbr')[0].text\n",
    "    li.append(d)\n",
    "    \n",
    "n = np.array(li).reshape(-1, 4) # 4열로 하고 행은 알아서 해줘라\n",
    "df = pd.DataFrame(data = n, \n",
    "                  index = content_list, \n",
    "                  columns = ['시가총액', '외국인소진율', 'per', 'pbr'])\n",
    "\n",
    "df"
   ]
  },
  {
   "cell_type": "code",
   "execution_count": 31,
   "metadata": {
    "ExecuteTime": {
     "end_time": "2021-09-27T00:52:31.106062Z",
     "start_time": "2021-09-27T00:52:31.101316Z"
    }
   },
   "outputs": [
    {
     "data": {
      "text/plain": [
       "[['462조6,581', '51.98%', '16.32', '1.92'],\n",
       " ['5,145', '11.36%', '3.64', '0.67'],\n",
       " ['32조2,118', '5.45%', '219.42', '9.55']]"
      ]
     },
     "execution_count": 31,
     "metadata": {},
     "output_type": "execute_result"
    }
   ],
   "source": []
  },
  {
   "cell_type": "code",
   "execution_count": 32,
   "metadata": {
    "ExecuteTime": {
     "end_time": "2021-09-27T00:53:55.646061Z",
     "start_time": "2021-09-27T00:53:55.619928Z"
    }
   },
   "outputs": [
    {
     "data": {
      "text/html": [
       "<div>\n",
       "<style scoped>\n",
       "    .dataframe tbody tr th:only-of-type {\n",
       "        vertical-align: middle;\n",
       "    }\n",
       "\n",
       "    .dataframe tbody tr th {\n",
       "        vertical-align: top;\n",
       "    }\n",
       "\n",
       "    .dataframe thead th {\n",
       "        text-align: right;\n",
       "    }\n",
       "</style>\n",
       "<table border=\"1\" class=\"dataframe\">\n",
       "  <thead>\n",
       "    <tr style=\"text-align: right;\">\n",
       "      <th></th>\n",
       "      <th>시가총액</th>\n",
       "      <th>외국인소진률</th>\n",
       "      <th>PER</th>\n",
       "      <th>PBR</th>\n",
       "    </tr>\n",
       "  </thead>\n",
       "  <tbody>\n",
       "    <tr>\n",
       "      <th>삼성전자</th>\n",
       "      <td>462조6,581</td>\n",
       "      <td>51.98%</td>\n",
       "      <td>16.32</td>\n",
       "      <td>1.92</td>\n",
       "    </tr>\n",
       "    <tr>\n",
       "      <th>코오롱</th>\n",
       "      <td>5,145</td>\n",
       "      <td>11.36%</td>\n",
       "      <td>3.64</td>\n",
       "      <td>0.67</td>\n",
       "    </tr>\n",
       "    <tr>\n",
       "      <th>카카오뱅크</th>\n",
       "      <td>32조2,118</td>\n",
       "      <td>5.45%</td>\n",
       "      <td>219.42</td>\n",
       "      <td>9.55</td>\n",
       "    </tr>\n",
       "  </tbody>\n",
       "</table>\n",
       "</div>"
      ],
      "text/plain": [
       "            시가총액  외국인소진률     PER   PBR\n",
       "삼성전자   462조6,581  51.98%   16.32  1.92\n",
       "코오롱        5,145  11.36%    3.64  0.67\n",
       "카카오뱅크   32조2,118   5.45%  219.42  9.55"
      ]
     },
     "execution_count": 32,
     "metadata": {},
     "output_type": "execute_result"
    }
   ],
   "source": [
    "# 데이터프레임 제작\n"
   ]
  },
  {
   "cell_type": "markdown",
   "metadata": {
    "id": "XYhXePUPB7FF",
    "slideshow": {
     "slide_type": "slide"
    }
   },
   "source": [
    "## **동적페이지 크롤링**\n",
    "> 최근에는 Js로 변경이 되며 일반적인 크롤링이 되지 않는 경우가 많음  \n",
    "동적페이지와 숨겨진 url을 가져오는 방법을 알아봅니다"
   ]
  },
  {
   "cell_type": "markdown",
   "metadata": {},
   "source": [
    "### 네이버 주식 시세 데이터 크롤링"
   ]
  },
  {
   "cell_type": "code",
   "execution_count": 96,
   "metadata": {
    "ExecuteTime": {
     "end_time": "2022-06-06T12:23:45.113876Z",
     "start_time": "2022-06-06T12:23:44.915533Z"
    }
   },
   "outputs": [
    {
     "data": {
      "text/html": [
       "<div>\n",
       "<style scoped>\n",
       "    .dataframe tbody tr th:only-of-type {\n",
       "        vertical-align: middle;\n",
       "    }\n",
       "\n",
       "    .dataframe tbody tr th {\n",
       "        vertical-align: top;\n",
       "    }\n",
       "\n",
       "    .dataframe thead th {\n",
       "        text-align: right;\n",
       "    }\n",
       "</style>\n",
       "<table border=\"1\" class=\"dataframe\">\n",
       "  <thead>\n",
       "    <tr style=\"text-align: right;\">\n",
       "      <th></th>\n",
       "      <th>종가</th>\n",
       "      <th>전일비</th>\n",
       "      <th>시가</th>\n",
       "      <th>고가</th>\n",
       "      <th>저가</th>\n",
       "      <th>거래량</th>\n",
       "    </tr>\n",
       "  </thead>\n",
       "  <tbody>\n",
       "    <tr>\n",
       "      <th>2022.05.19</th>\n",
       "      <td>111,000</td>\n",
       "      <td>2,500</td>\n",
       "      <td>110,500</td>\n",
       "      <td>112,500</td>\n",
       "      <td>110,000</td>\n",
       "      <td>3,680,049</td>\n",
       "    </tr>\n",
       "    <tr>\n",
       "      <th>2022.05.18</th>\n",
       "      <td>113,500</td>\n",
       "      <td>1,000</td>\n",
       "      <td>114,000</td>\n",
       "      <td>115,000</td>\n",
       "      <td>113,000</td>\n",
       "      <td>3,570,113</td>\n",
       "    </tr>\n",
       "    <tr>\n",
       "      <th>2022.05.17</th>\n",
       "      <td>112,500</td>\n",
       "      <td>2,000</td>\n",
       "      <td>111,000</td>\n",
       "      <td>113,000</td>\n",
       "      <td>110,500</td>\n",
       "      <td>2,056,143</td>\n",
       "    </tr>\n",
       "    <tr>\n",
       "      <th>2022.05.16</th>\n",
       "      <td>110,500</td>\n",
       "      <td>2,000</td>\n",
       "      <td>113,500</td>\n",
       "      <td>114,000</td>\n",
       "      <td>110,000</td>\n",
       "      <td>3,930,044</td>\n",
       "    </tr>\n",
       "    <tr>\n",
       "      <th>2022.05.13</th>\n",
       "      <td>112,500</td>\n",
       "      <td>3,500</td>\n",
       "      <td>109,000</td>\n",
       "      <td>112,500</td>\n",
       "      <td>109,000</td>\n",
       "      <td>4,003,349</td>\n",
       "    </tr>\n",
       "    <tr>\n",
       "      <th>2022.05.12</th>\n",
       "      <td>109,000</td>\n",
       "      <td>1,500</td>\n",
       "      <td>109,500</td>\n",
       "      <td>111,500</td>\n",
       "      <td>108,500</td>\n",
       "      <td>4,132,948</td>\n",
       "    </tr>\n",
       "    <tr>\n",
       "      <th>2022.05.11</th>\n",
       "      <td>110,500</td>\n",
       "      <td>500</td>\n",
       "      <td>110,500</td>\n",
       "      <td>112,500</td>\n",
       "      <td>108,000</td>\n",
       "      <td>3,658,168</td>\n",
       "    </tr>\n",
       "    <tr>\n",
       "      <th>2022.05.10</th>\n",
       "      <td>110,000</td>\n",
       "      <td>2,500</td>\n",
       "      <td>107,000</td>\n",
       "      <td>111,000</td>\n",
       "      <td>107,000</td>\n",
       "      <td>4,141,923</td>\n",
       "    </tr>\n",
       "    <tr>\n",
       "      <th>2022.05.09</th>\n",
       "      <td>107,500</td>\n",
       "      <td>0</td>\n",
       "      <td>107,000</td>\n",
       "      <td>109,000</td>\n",
       "      <td>106,500</td>\n",
       "      <td>2,203,472</td>\n",
       "    </tr>\n",
       "    <tr>\n",
       "      <th>2022.05.06</th>\n",
       "      <td>107,500</td>\n",
       "      <td>2,000</td>\n",
       "      <td>108,000</td>\n",
       "      <td>108,500</td>\n",
       "      <td>106,500</td>\n",
       "      <td>2,566,813</td>\n",
       "    </tr>\n",
       "  </tbody>\n",
       "</table>\n",
       "</div>"
      ],
      "text/plain": [
       "                 종가    전일비       시가       고가       저가        거래량\n",
       "2022.05.19  111,000  2,500  110,500  112,500  110,000  3,680,049\n",
       "2022.05.18  113,500  1,000  114,000  115,000  113,000  3,570,113\n",
       "2022.05.17  112,500  2,000  111,000  113,000  110,500  2,056,143\n",
       "2022.05.16  110,500  2,000  113,500  114,000  110,000  3,930,044\n",
       "2022.05.13  112,500  3,500  109,000  112,500  109,000  4,003,349\n",
       "2022.05.12  109,000  1,500  109,500  111,500  108,500  4,132,948\n",
       "2022.05.11  110,500    500  110,500  112,500  108,000  3,658,168\n",
       "2022.05.10  110,000  2,500  107,000  111,000  107,000  4,141,923\n",
       "2022.05.09  107,500      0  107,000  109,000  106,500  2,203,472\n",
       "2022.05.06  107,500  2,000  108,000  108,500  106,500  2,566,813"
      ]
     },
     "execution_count": 96,
     "metadata": {},
     "output_type": "execute_result"
    }
   ],
   "source": [
    "# 동적페이지의 숨은 URL\n",
    "# 동적페이지에 요청을 할 때 웹 정책에 필요한 정보를 같이 전달을 해줘야 함.\n",
    "\n",
    "\n",
    "# requests 요청시에 헤더정보 추가\n",
    "\n",
    "# html 변환\n",
    "\n",
    "# 정보선별\n",
    "\n",
    "# df 제작\n"
   ]
  },
  {
   "cell_type": "markdown",
   "metadata": {},
   "source": [
    "#### 20페이지 주가 정보 크롤링 해서 종가 그래프 출력"
   ]
  },
  {
   "cell_type": "code",
   "execution_count": 100,
   "metadata": {
    "ExecuteTime": {
     "end_time": "2021-09-27T04:10:31.778681Z",
     "start_time": "2021-09-27T04:09:40.133778Z"
    }
   },
   "outputs": [
    {
     "name": "stdout",
     "output_type": "stream",
     "text": [
      "1페이지 크롤링 중\n",
      "2페이지 크롤링 중\n",
      "3페이지 크롤링 중\n",
      "4페이지 크롤링 중\n",
      "5페이지 크롤링 중\n",
      "6페이지 크롤링 중\n",
      "7페이지 크롤링 중\n",
      "8페이지 크롤링 중\n",
      "9페이지 크롤링 중\n",
      "10페이지 크롤링 중\n",
      "11페이지 크롤링 중\n",
      "12페이지 크롤링 중\n",
      "13페이지 크롤링 중\n",
      "14페이지 크롤링 중\n",
      "15페이지 크롤링 중\n",
      "16페이지 크롤링 중\n",
      "17페이지 크롤링 중\n",
      "18페이지 크롤링 중\n",
      "19페이지 크롤링 중\n",
      "20페이지 크롤링 중\n"
     ]
    }
   ],
   "source": [
    "# 헤더정보 정의 (동적페이지 헤더정보 그대로 사용)\n",
    "\n",
    "# 인덱스 정의\n",
    "\n",
    "# 전체 가격 데이터 빈 데이터 프레임\n",
    "\n",
    "# requests 요청시에 헤더정보 추가\n",
    "\n",
    "# html 변환\n",
    "\n",
    "# 날짜 인덱스 살려서 활용하기\n",
    "\n",
    "# 가격정보 추출\n",
    "\n",
    "# 데이터프레임 제작\n",
    "pd.concat(df, temp_df)"
   ]
  },
  {
   "cell_type": "code",
   "execution_count": 228,
   "metadata": {
    "ExecuteTime": {
     "end_time": "2022-04-25T07:33:42.799336Z",
     "start_time": "2022-04-25T07:33:42.776007Z"
    }
   },
   "outputs": [
    {
     "data": {
      "text/html": [
       "<div>\n",
       "<style scoped>\n",
       "    .dataframe tbody tr th:only-of-type {\n",
       "        vertical-align: middle;\n",
       "    }\n",
       "\n",
       "    .dataframe tbody tr th {\n",
       "        vertical-align: top;\n",
       "    }\n",
       "\n",
       "    .dataframe thead th {\n",
       "        text-align: right;\n",
       "    }\n",
       "</style>\n",
       "<table border=\"1\" class=\"dataframe\">\n",
       "  <thead>\n",
       "    <tr style=\"text-align: right;\">\n",
       "      <th></th>\n",
       "      <th>종가</th>\n",
       "      <th>전일비</th>\n",
       "      <th>시가</th>\n",
       "      <th>고가</th>\n",
       "      <th>저가</th>\n",
       "      <th>거래량</th>\n",
       "    </tr>\n",
       "  </thead>\n",
       "  <tbody>\n",
       "    <tr>\n",
       "      <th>2022.04.11</th>\n",
       "      <td>111,500</td>\n",
       "      <td>500</td>\n",
       "      <td>111,000</td>\n",
       "      <td>113,000</td>\n",
       "      <td>110,500</td>\n",
       "      <td>2,390,786</td>\n",
       "    </tr>\n",
       "    <tr>\n",
       "      <th>2022.04.08</th>\n",
       "      <td>112,000</td>\n",
       "      <td>1,500</td>\n",
       "      <td>113,000</td>\n",
       "      <td>114,000</td>\n",
       "      <td>110,500</td>\n",
       "      <td>4,268,316</td>\n",
       "    </tr>\n",
       "    <tr>\n",
       "      <th>2022.04.07</th>\n",
       "      <td>113,500</td>\n",
       "      <td>500</td>\n",
       "      <td>111,500</td>\n",
       "      <td>114,500</td>\n",
       "      <td>110,500</td>\n",
       "      <td>5,027,865</td>\n",
       "    </tr>\n",
       "    <tr>\n",
       "      <th>2022.04.06</th>\n",
       "      <td>113,000</td>\n",
       "      <td>3,500</td>\n",
       "      <td>114,500</td>\n",
       "      <td>115,500</td>\n",
       "      <td>113,000</td>\n",
       "      <td>4,541,938</td>\n",
       "    </tr>\n",
       "    <tr>\n",
       "      <th>2022.04.05</th>\n",
       "      <td>116,500</td>\n",
       "      <td>500</td>\n",
       "      <td>117,500</td>\n",
       "      <td>118,000</td>\n",
       "      <td>116,000</td>\n",
       "      <td>2,101,474</td>\n",
       "    </tr>\n",
       "    <tr>\n",
       "      <th>2022.04.04</th>\n",
       "      <td>117,000</td>\n",
       "      <td>1,000</td>\n",
       "      <td>115,000</td>\n",
       "      <td>117,500</td>\n",
       "      <td>114,500</td>\n",
       "      <td>2,470,792</td>\n",
       "    </tr>\n",
       "    <tr>\n",
       "      <th>2022.04.01</th>\n",
       "      <td>116,000</td>\n",
       "      <td>2,000</td>\n",
       "      <td>117,000</td>\n",
       "      <td>117,500</td>\n",
       "      <td>116,000</td>\n",
       "      <td>3,851,558</td>\n",
       "    </tr>\n",
       "    <tr>\n",
       "      <th>2022.03.31</th>\n",
       "      <td>118,000</td>\n",
       "      <td>3,000</td>\n",
       "      <td>119,500</td>\n",
       "      <td>120,000</td>\n",
       "      <td>117,500</td>\n",
       "      <td>4,558,063</td>\n",
       "    </tr>\n",
       "    <tr>\n",
       "      <th>2022.03.30</th>\n",
       "      <td>121,000</td>\n",
       "      <td>1,000</td>\n",
       "      <td>123,000</td>\n",
       "      <td>123,000</td>\n",
       "      <td>120,500</td>\n",
       "      <td>3,436,282</td>\n",
       "    </tr>\n",
       "    <tr>\n",
       "      <th>2022.03.29</th>\n",
       "      <td>120,000</td>\n",
       "      <td>2,000</td>\n",
       "      <td>119,500</td>\n",
       "      <td>120,500</td>\n",
       "      <td>118,500</td>\n",
       "      <td>3,375,247</td>\n",
       "    </tr>\n",
       "  </tbody>\n",
       "</table>\n",
       "</div>"
      ],
      "text/plain": [
       "                 종가    전일비       시가       고가       저가        거래량\n",
       "2022.04.11  111,500    500  111,000  113,000  110,500  2,390,786\n",
       "2022.04.08  112,000  1,500  113,000  114,000  110,500  4,268,316\n",
       "2022.04.07  113,500    500  111,500  114,500  110,500  5,027,865\n",
       "2022.04.06  113,000  3,500  114,500  115,500  113,000  4,541,938\n",
       "2022.04.05  116,500    500  117,500  118,000  116,000  2,101,474\n",
       "2022.04.04  117,000  1,000  115,000  117,500  114,500  2,470,792\n",
       "2022.04.01  116,000  2,000  117,000  117,500  116,000  3,851,558\n",
       "2022.03.31  118,000  3,000  119,500  120,000  117,500  4,558,063\n",
       "2022.03.30  121,000  1,000  123,000  123,000  120,500  3,436,282\n",
       "2022.03.29  120,000  2,000  119,500  120,500  118,500  3,375,247"
      ]
     },
     "execution_count": 228,
     "metadata": {},
     "output_type": "execute_result"
    }
   ],
   "source": []
  },
  {
   "cell_type": "code",
   "execution_count": 243,
   "metadata": {
    "ExecuteTime": {
     "end_time": "2022-04-25T07:39:09.214552Z",
     "start_time": "2022-04-25T07:39:09.138002Z"
    }
   },
   "outputs": [
    {
     "data": {
      "image/png": "[encoded data removed]",
      "text/plain": [
       "<Figure size 1440x432 with 1 Axes>"
      ]
     },
     "metadata": {
      "needs_background": "light"
     },
     "output_type": "display_data"
    }
   ],
   "source": [
    "# 종가 그래프 출력(str)\n"
   ]
  },
  {
   "cell_type": "markdown",
   "metadata": {},
   "source": [
    "### JSON 파싱\n",
    "> 동적페이지 크롤링의 경우에는 일반적인 HTML text 형태의 데이터만을 사용하지 않습니다.  \n",
    "JSON, xml 형식의 데이터도 통신에 사용하기에 요청결과값에 따른 처리가 필요합니다."
   ]
  },
  {
   "cell_type": "markdown",
   "metadata": {},
   "source": [
    "### 다음 주식 일자별 주가 데이터 크롤링 연습"
   ]
  },
  {
   "cell_type": "code",
   "execution_count": 97,
   "metadata": {
    "ExecuteTime": {
     "end_time": "2022-06-06T12:31:12.366223Z",
     "start_time": "2022-06-06T12:31:12.063191Z"
    }
   },
   "outputs": [
    {
     "data": {
      "text/html": [
       "<div>\n",
       "<style scoped>\n",
       "    .dataframe tbody tr th:only-of-type {\n",
       "        vertical-align: middle;\n",
       "    }\n",
       "\n",
       "    .dataframe tbody tr th {\n",
       "        vertical-align: top;\n",
       "    }\n",
       "\n",
       "    .dataframe thead th {\n",
       "        text-align: right;\n",
       "    }\n",
       "</style>\n",
       "<table border=\"1\" class=\"dataframe\">\n",
       "  <thead>\n",
       "    <tr style=\"text-align: right;\">\n",
       "      <th></th>\n",
       "      <th>symbolCode</th>\n",
       "      <th>date</th>\n",
       "      <th>tradePrice</th>\n",
       "      <th>tradeTime</th>\n",
       "      <th>change</th>\n",
       "      <th>changePrice</th>\n",
       "      <th>changeRate</th>\n",
       "      <th>prevClosingPrice</th>\n",
       "      <th>exchangeCountry</th>\n",
       "      <th>openingPrice</th>\n",
       "      <th>highPrice</th>\n",
       "      <th>lowPrice</th>\n",
       "      <th>accTradePrice</th>\n",
       "      <th>accTradeVolume</th>\n",
       "      <th>periodTradePrice</th>\n",
       "      <th>periodTradeVolume</th>\n",
       "      <th>listedSharesCount</th>\n",
       "    </tr>\n",
       "  </thead>\n",
       "  <tbody>\n",
       "    <tr>\n",
       "      <th>0</th>\n",
       "      <td>A005930</td>\n",
       "      <td>2022-05-19 15:30:23</td>\n",
       "      <td>67500.0</td>\n",
       "      <td>15:30:23</td>\n",
       "      <td>FALL</td>\n",
       "      <td>600.0</td>\n",
       "      <td>-0.008811</td>\n",
       "      <td>68100.0</td>\n",
       "      <td>KOREA</td>\n",
       "      <td>66500.0</td>\n",
       "      <td>67600.0</td>\n",
       "      <td>66500.0</td>\n",
       "      <td>1147743790508</td>\n",
       "      <td>17073727</td>\n",
       "      <td>1147743790508</td>\n",
       "      <td>17073727</td>\n",
       "      <td>None</td>\n",
       "    </tr>\n",
       "    <tr>\n",
       "      <th>1</th>\n",
       "      <td>A005930</td>\n",
       "      <td>2022-05-18 15:30:14</td>\n",
       "      <td>68100.0</td>\n",
       "      <td>15:30:14</td>\n",
       "      <td>RISE</td>\n",
       "      <td>500.0</td>\n",
       "      <td>0.007396</td>\n",
       "      <td>67600.0</td>\n",
       "      <td>KOREA</td>\n",
       "      <td>68300.0</td>\n",
       "      <td>68700.0</td>\n",
       "      <td>67600.0</td>\n",
       "      <td>1122585202585</td>\n",
       "      <td>16486319</td>\n",
       "      <td>1122585202585</td>\n",
       "      <td>16486319</td>\n",
       "      <td>None</td>\n",
       "    </tr>\n",
       "    <tr>\n",
       "      <th>2</th>\n",
       "      <td>A005930</td>\n",
       "      <td>2022-05-17 15:30:21</td>\n",
       "      <td>67600.0</td>\n",
       "      <td>15:30:21</td>\n",
       "      <td>RISE</td>\n",
       "      <td>1300.0</td>\n",
       "      <td>0.019608</td>\n",
       "      <td>66300.0</td>\n",
       "      <td>KOREA</td>\n",
       "      <td>66600.0</td>\n",
       "      <td>67900.0</td>\n",
       "      <td>66600.0</td>\n",
       "      <td>1058322764800</td>\n",
       "      <td>15680447</td>\n",
       "      <td>1058322764800</td>\n",
       "      <td>15680447</td>\n",
       "      <td>None</td>\n",
       "    </tr>\n",
       "    <tr>\n",
       "      <th>3</th>\n",
       "      <td>A005930</td>\n",
       "      <td>2022-05-16 15:30:27</td>\n",
       "      <td>66300.0</td>\n",
       "      <td>15:30:27</td>\n",
       "      <td>FALL</td>\n",
       "      <td>200.0</td>\n",
       "      <td>-0.003008</td>\n",
       "      <td>66500.0</td>\n",
       "      <td>KOREA</td>\n",
       "      <td>67100.0</td>\n",
       "      <td>67400.0</td>\n",
       "      <td>66100.0</td>\n",
       "      <td>796060691900</td>\n",
       "      <td>11937555</td>\n",
       "      <td>796060691900</td>\n",
       "      <td>11937555</td>\n",
       "      <td>None</td>\n",
       "    </tr>\n",
       "    <tr>\n",
       "      <th>4</th>\n",
       "      <td>A005930</td>\n",
       "      <td>2022-05-13 15:30:18</td>\n",
       "      <td>66500.0</td>\n",
       "      <td>15:30:18</td>\n",
       "      <td>RISE</td>\n",
       "      <td>1600.0</td>\n",
       "      <td>0.024653</td>\n",
       "      <td>64900.0</td>\n",
       "      <td>KOREA</td>\n",
       "      <td>65300.0</td>\n",
       "      <td>66700.0</td>\n",
       "      <td>65200.0</td>\n",
       "      <td>962476162900</td>\n",
       "      <td>14551536</td>\n",
       "      <td>962476162900</td>\n",
       "      <td>14551536</td>\n",
       "      <td>None</td>\n",
       "    </tr>\n",
       "    <tr>\n",
       "      <th>5</th>\n",
       "      <td>A005930</td>\n",
       "      <td>2022-05-12 15:30:14</td>\n",
       "      <td>64900.0</td>\n",
       "      <td>15:30:14</td>\n",
       "      <td>FALL</td>\n",
       "      <td>800.0</td>\n",
       "      <td>-0.012177</td>\n",
       "      <td>65700.0</td>\n",
       "      <td>KOREA</td>\n",
       "      <td>65200.0</td>\n",
       "      <td>65500.0</td>\n",
       "      <td>64900.0</td>\n",
       "      <td>1069685385550</td>\n",
       "      <td>16414188</td>\n",
       "      <td>1069685385550</td>\n",
       "      <td>16414188</td>\n",
       "      <td>None</td>\n",
       "    </tr>\n",
       "    <tr>\n",
       "      <th>6</th>\n",
       "      <td>A005930</td>\n",
       "      <td>2022-05-11 15:30:01</td>\n",
       "      <td>65700.0</td>\n",
       "      <td>15:30:01</td>\n",
       "      <td>EVEN</td>\n",
       "      <td>0.0</td>\n",
       "      <td>0.000000</td>\n",
       "      <td>65700.0</td>\n",
       "      <td>KOREA</td>\n",
       "      <td>65500.0</td>\n",
       "      <td>66300.0</td>\n",
       "      <td>65200.0</td>\n",
       "      <td>812298026600</td>\n",
       "      <td>12330920</td>\n",
       "      <td>812298026600</td>\n",
       "      <td>12330920</td>\n",
       "      <td>None</td>\n",
       "    </tr>\n",
       "    <tr>\n",
       "      <th>7</th>\n",
       "      <td>A005930</td>\n",
       "      <td>2022-05-10 15:30:16</td>\n",
       "      <td>65700.0</td>\n",
       "      <td>15:30:16</td>\n",
       "      <td>FALL</td>\n",
       "      <td>400.0</td>\n",
       "      <td>-0.006051</td>\n",
       "      <td>66100.0</td>\n",
       "      <td>KOREA</td>\n",
       "      <td>65900.0</td>\n",
       "      <td>66300.0</td>\n",
       "      <td>65300.0</td>\n",
       "      <td>1132067708900</td>\n",
       "      <td>17235605</td>\n",
       "      <td>1132067708900</td>\n",
       "      <td>17235605</td>\n",
       "      <td>None</td>\n",
       "    </tr>\n",
       "    <tr>\n",
       "      <th>8</th>\n",
       "      <td>A005930</td>\n",
       "      <td>2022-05-09 15:30:29</td>\n",
       "      <td>66100.0</td>\n",
       "      <td>15:30:29</td>\n",
       "      <td>FALL</td>\n",
       "      <td>400.0</td>\n",
       "      <td>-0.006015</td>\n",
       "      <td>66500.0</td>\n",
       "      <td>KOREA</td>\n",
       "      <td>66300.0</td>\n",
       "      <td>66900.0</td>\n",
       "      <td>66100.0</td>\n",
       "      <td>787562955000</td>\n",
       "      <td>11858736</td>\n",
       "      <td>787562955000</td>\n",
       "      <td>11858736</td>\n",
       "      <td>None</td>\n",
       "    </tr>\n",
       "    <tr>\n",
       "      <th>9</th>\n",
       "      <td>A005930</td>\n",
       "      <td>2022-05-06 15:30:15</td>\n",
       "      <td>66500.0</td>\n",
       "      <td>15:30:15</td>\n",
       "      <td>FALL</td>\n",
       "      <td>1400.0</td>\n",
       "      <td>-0.020619</td>\n",
       "      <td>67900.0</td>\n",
       "      <td>KOREA</td>\n",
       "      <td>67000.0</td>\n",
       "      <td>67100.0</td>\n",
       "      <td>66500.0</td>\n",
       "      <td>957335193600</td>\n",
       "      <td>14356156</td>\n",
       "      <td>957335193600</td>\n",
       "      <td>14356156</td>\n",
       "      <td>None</td>\n",
       "    </tr>\n",
       "  </tbody>\n",
       "</table>\n",
       "</div>"
      ],
      "text/plain": [
       "  symbolCode                 date  tradePrice tradeTime change  changePrice  \\\n",
       "0    A005930  2022-05-19 15:30:23     67500.0  15:30:23   FALL        600.0   \n",
       "1    A005930  2022-05-18 15:30:14     68100.0  15:30:14   RISE        500.0   \n",
       "2    A005930  2022-05-17 15:30:21     67600.0  15:30:21   RISE       1300.0   \n",
       "3    A005930  2022-05-16 15:30:27     66300.0  15:30:27   FALL        200.0   \n",
       "4    A005930  2022-05-13 15:30:18     66500.0  15:30:18   RISE       1600.0   \n",
       "5    A005930  2022-05-12 15:30:14     64900.0  15:30:14   FALL        800.0   \n",
       "6    A005930  2022-05-11 15:30:01     65700.0  15:30:01   EVEN          0.0   \n",
       "7    A005930  2022-05-10 15:30:16     65700.0  15:30:16   FALL        400.0   \n",
       "8    A005930  2022-05-09 15:30:29     66100.0  15:30:29   FALL        400.0   \n",
       "9    A005930  2022-05-06 15:30:15     66500.0  15:30:15   FALL       1400.0   \n",
       "\n",
       "   changeRate  prevClosingPrice exchangeCountry  openingPrice  highPrice  \\\n",
       "0   -0.008811           68100.0           KOREA       66500.0    67600.0   \n",
       "1    0.007396           67600.0           KOREA       68300.0    68700.0   \n",
       "2    0.019608           66300.0           KOREA       66600.0    67900.0   \n",
       "3   -0.003008           66500.0           KOREA       67100.0    67400.0   \n",
       "4    0.024653           64900.0           KOREA       65300.0    66700.0   \n",
       "5   -0.012177           65700.0           KOREA       65200.0    65500.0   \n",
       "6    0.000000           65700.0           KOREA       65500.0    66300.0   \n",
       "7   -0.006051           66100.0           KOREA       65900.0    66300.0   \n",
       "8   -0.006015           66500.0           KOREA       66300.0    66900.0   \n",
       "9   -0.020619           67900.0           KOREA       67000.0    67100.0   \n",
       "\n",
       "   lowPrice  accTradePrice  accTradeVolume  periodTradePrice  \\\n",
       "0   66500.0  1147743790508        17073727     1147743790508   \n",
       "1   67600.0  1122585202585        16486319     1122585202585   \n",
       "2   66600.0  1058322764800        15680447     1058322764800   \n",
       "3   66100.0   796060691900        11937555      796060691900   \n",
       "4   65200.0   962476162900        14551536      962476162900   \n",
       "5   64900.0  1069685385550        16414188     1069685385550   \n",
       "6   65200.0   812298026600        12330920      812298026600   \n",
       "7   65300.0  1132067708900        17235605     1132067708900   \n",
       "8   66100.0   787562955000        11858736      787562955000   \n",
       "9   66500.0   957335193600        14356156      957335193600   \n",
       "\n",
       "   periodTradeVolume listedSharesCount  \n",
       "0           17073727              None  \n",
       "1           16486319              None  \n",
       "2           15680447              None  \n",
       "3           11937555              None  \n",
       "4           14551536              None  \n",
       "5           16414188              None  \n",
       "6           12330920              None  \n",
       "7           17235605              None  \n",
       "8           11858736              None  \n",
       "9           14356156              None  "
      ]
     },
     "execution_count": 97,
     "metadata": {},
     "output_type": "execute_result"
    }
   ],
   "source": []
  },
  {
   "cell_type": "markdown",
   "metadata": {
    "id": "GIvAIByBCAz1",
    "slideshow": {
     "slide_type": "slide"
    }
   },
   "source": [
    "### 네이버 데이터랩 인기검색어 크롤링"
   ]
  },
  {
   "cell_type": "code",
   "execution_count": 244,
   "metadata": {
    "ExecuteTime": {
     "end_time": "2022-04-25T08:03:58.182889Z",
     "start_time": "2022-04-25T08:03:58.174940Z"
    }
   },
   "outputs": [],
   "source": []
  },
  {
   "cell_type": "markdown",
   "metadata": {},
   "source": [
    "## APIs\n",
    "> 어플리케이션  \n",
    "웹 서비스 제공자가 사용자에게 정보를 제공하기 위한 통신프로그램  \n",
    "일반적인 API의 경우 requests -> response 형태의 크롤링 방법과 동일한 형태를 취한다.  "
   ]
  },
  {
   "cell_type": "markdown",
   "metadata": {},
   "source": [
    "### 네이버 파파고 API"
   ]
  },
  {
   "cell_type": "code",
   "execution_count": 1,
   "metadata": {
    "ExecuteTime": {
     "end_time": "2022-06-06T12:35:35.857721Z",
     "start_time": "2022-06-06T12:35:35.850856Z"
    }
   },
   "outputs": [],
   "source": [
    "app_id = 'qnCaumqFm0WGvzJFKjLX'\n",
    "app_pw = 'H1y6GgIcAT'"
   ]
  },
  {
   "cell_type": "code",
   "execution_count": 10,
   "metadata": {
    "ExecuteTime": {
     "end_time": "2022-06-06T12:35:49.696002Z",
     "start_time": "2022-06-06T12:35:38.429957Z"
    }
   },
   "outputs": [
    {
     "name": "stdout",
     "output_type": "stream",
     "text": [
      "나는 속초에서 2박 3일 동안 놀다가 왔습니다.\n"
     ]
    },
    {
     "data": {
      "text/plain": [
       "'{\"message\":{\"result\":{\"srcLangType\":\"ko\",\"tarLangType\":\"en\",\"translatedText\":\"I played in Sokcho for 2 nights and 3 days.\",\"engineType\":\"N2MT\",\"pivot\":null,\"dict\":null,\"tarDict\":null},\"@type\":\"response\",\"@service\":\"naverservice.nmt.proxy\",\"@version\":\"1.0.0\"}}'"
      ]
     },
     "execution_count": 10,
     "metadata": {},
     "output_type": "execute_result"
    }
   ],
   "source": [
    "url = 'https://openapi.naver.com/v1/papago/n2mt'\n",
    "\n",
    "import requests\n",
    "from bs4 import BeautifulSoup\n",
    "\n",
    "data = {\n",
    "    \"source\" : \"ko\",\n",
    "    \"target\" : \"en\",\n",
    "    \"text\" : input()\n",
    "}\n",
    "\n",
    "header = {\n",
    "    \"Content-Type\": \"application/x-www-form-urlencoded; charset=UTF-8\",\n",
    "    \"X-Naver-Client-Id\": f\"{app_id}\",\n",
    "    \"X-Naver-Client-Secret\": f\"{app_pw}\"\n",
    "}\n",
    "\n",
    "resp = requests.post(url, headers = header, data = data)\n",
    "resp.text"
   ]
  },
  {
   "cell_type": "code",
   "execution_count": 11,
   "metadata": {},
   "outputs": [
    {
     "data": {
      "text/plain": [
       "'I played in Sokcho for 2 nights and 3 days.'"
      ]
     },
     "execution_count": 11,
     "metadata": {},
     "output_type": "execute_result"
    }
   ],
   "source": [
    "import json\n",
    "\n",
    "data = json.loads(resp.text)\n",
    "data['message']['result']['translatedText']"
   ]
  },
  {
   "cell_type": "markdown",
   "metadata": {},
   "source": [
    "### 공공데이터 API"
   ]
  },
  {
   "cell_type": "code",
   "execution_count": 23,
   "metadata": {
    "ExecuteTime": {
     "end_time": "2022-06-06T12:41:48.033602Z",
     "start_time": "2022-06-06T12:41:48.026173Z"
    }
   },
   "outputs": [
    {
     "name": "stdout",
     "output_type": "stream",
     "text": [
      "{\"resultCode\":\"0\",\"resultMsg\":\"SUCCESS\",\"numOfRows\":10,\"pageNo\":0,\"totalCount\":377,\"items\":[{\"date\":\"2018-07-01\",\"positive\":\"2956\",\"negative\":\"648\",\"neutral\":\"295\",\"addr\":\"홍대 걷고 싶은 거리\"},{\"date\":\"2018-08-01\",\"positive\":\"2247\",\"negative\":\"111\",\"neutral\":\"200\",\"addr\":\"홍대 걷고 싶은 거리\"},{\"date\":\"2018-09-01\",\"positive\":\"3602\",\"negative\":\"635\",\"neutral\":\"436\",\"addr\":\"홍대 걷고 싶은 거리\"},{\"date\":\"2018-10-01\",\"positive\":\"2827\",\"negative\":\"394\",\"neutral\":\"623\",\"addr\":\"홍대 걷고 싶은 거리\"},{\"date\":\"2018-11-01\",\"positive\":\"2004\",\"negative\":\"356\",\"neutral\":\"583\",\"addr\":\"홍대 걷고 싶은 거리\"},{\"date\":\"2018-12-01\",\"positive\":\"1457\",\"negative\":\"223\",\"neutral\":\"173\",\"addr\":\"홍대 걷고 싶은 거리\"},{\"date\":\"2019-01-01\",\"positive\":\"1444\",\"negative\":\"143\",\"neutral\":\"127\",\"addr\":\"홍대 걷고 싶은 거리\"},{\"date\":\"2019-02-01\",\"positive\":\"6886\",\"negative\":\"215\",\"neutral\":\"220\",\"addr\":\"홍대 걷고 싶은 거리\"},{\"date\":\"2019-03-01\",\"positive\":\"1945\",\"negative\":\"175\",\"neutral\":\"160\",\"addr\":\"홍대 걷고 싶은 거리\"},{\"date\":\"2019-04-01\",\"positive\":\"1773\",\"negative\":\"90\",\"neutral\":\"103\",\"addr\":\"홍대 걷고 싶은 거리\"}]}\n"
     ]
    }
   ],
   "source": [
    "import requests\n",
    "\n",
    "url = 'http://apis.data.go.kr/3130000/openapi/sns/getsns'\n",
    "params ={'serviceKey' : 'bZ4RDY5WTSnuUoVIfG5vkqmusU6U7cLJ/wpihMUQD0gzjWzvgb1OYUXfEmIdenSpwU9ATFxbv+2itNJXhwJ2fw==',\n",
    "         'type' : 'Json'\n",
    "}\n",
    "\n",
    "response = requests.get(url, params=params)\n",
    "print(response.text)"
   ]
  },
  {
   "cell_type": "code",
   "execution_count": 25,
   "metadata": {},
   "outputs": [
    {
     "data": {
      "text/plain": [
       "{'resultCode': '0',\n",
       " 'resultMsg': 'SUCCESS',\n",
       " 'numOfRows': 10,\n",
       " 'pageNo': 0,\n",
       " 'totalCount': 377,\n",
       " 'items': [{'date': '2018-07-01',\n",
       "   'positive': '2956',\n",
       "   'negative': '648',\n",
       "   'neutral': '295',\n",
       "   'addr': '홍대 걷고 싶은 거리'},\n",
       "  {'date': '2018-08-01',\n",
       "   'positive': '2247',\n",
       "   'negative': '111',\n",
       "   'neutral': '200',\n",
       "   'addr': '홍대 걷고 싶은 거리'},\n",
       "  {'date': '2018-09-01',\n",
       "   'positive': '3602',\n",
       "   'negative': '635',\n",
       "   'neutral': '436',\n",
       "   'addr': '홍대 걷고 싶은 거리'},\n",
       "  {'date': '2018-10-01',\n",
       "   'positive': '2827',\n",
       "   'negative': '394',\n",
       "   'neutral': '623',\n",
       "   'addr': '홍대 걷고 싶은 거리'},\n",
       "  {'date': '2018-11-01',\n",
       "   'positive': '2004',\n",
       "   'negative': '356',\n",
       "   'neutral': '583',\n",
       "   'addr': '홍대 걷고 싶은 거리'},\n",
       "  {'date': '2018-12-01',\n",
       "   'positive': '1457',\n",
       "   'negative': '223',\n",
       "   'neutral': '173',\n",
       "   'addr': '홍대 걷고 싶은 거리'},\n",
       "  {'date': '2019-01-01',\n",
       "   'positive': '1444',\n",
       "   'negative': '143',\n",
       "   'neutral': '127',\n",
       "   'addr': '홍대 걷고 싶은 거리'},\n",
       "  {'date': '2019-02-01',\n",
       "   'positive': '6886',\n",
       "   'negative': '215',\n",
       "   'neutral': '220',\n",
       "   'addr': '홍대 걷고 싶은 거리'},\n",
       "  {'date': '2019-03-01',\n",
       "   'positive': '1945',\n",
       "   'negative': '175',\n",
       "   'neutral': '160',\n",
       "   'addr': '홍대 걷고 싶은 거리'},\n",
       "  {'date': '2019-04-01',\n",
       "   'positive': '1773',\n",
       "   'negative': '90',\n",
       "   'neutral': '103',\n",
       "   'addr': '홍대 걷고 싶은 거리'}]}"
      ]
     },
     "execution_count": 25,
     "metadata": {},
     "output_type": "execute_result"
    }
   ],
   "source": [
    "data = json.loads(response.text)\n",
    "data"
   ]
  },
  {
   "cell_type": "code",
   "execution_count": 26,
   "metadata": {},
   "outputs": [
    {
     "data": {
      "text/html": [
       "<div>\n",
       "<style scoped>\n",
       "    .dataframe tbody tr th:only-of-type {\n",
       "        vertical-align: middle;\n",
       "    }\n",
       "\n",
       "    .dataframe tbody tr th {\n",
       "        vertical-align: top;\n",
       "    }\n",
       "\n",
       "    .dataframe thead th {\n",
       "        text-align: right;\n",
       "    }\n",
       "</style>\n",
       "<table border=\"1\" class=\"dataframe\">\n",
       "  <thead>\n",
       "    <tr style=\"text-align: right;\">\n",
       "      <th></th>\n",
       "      <th>date</th>\n",
       "      <th>positive</th>\n",
       "      <th>negative</th>\n",
       "      <th>neutral</th>\n",
       "      <th>addr</th>\n",
       "    </tr>\n",
       "  </thead>\n",
       "  <tbody>\n",
       "    <tr>\n",
       "      <th>0</th>\n",
       "      <td>2018-07-01</td>\n",
       "      <td>2956</td>\n",
       "      <td>648</td>\n",
       "      <td>295</td>\n",
       "      <td>홍대 걷고 싶은 거리</td>\n",
       "    </tr>\n",
       "    <tr>\n",
       "      <th>1</th>\n",
       "      <td>2018-08-01</td>\n",
       "      <td>2247</td>\n",
       "      <td>111</td>\n",
       "      <td>200</td>\n",
       "      <td>홍대 걷고 싶은 거리</td>\n",
       "    </tr>\n",
       "    <tr>\n",
       "      <th>2</th>\n",
       "      <td>2018-09-01</td>\n",
       "      <td>3602</td>\n",
       "      <td>635</td>\n",
       "      <td>436</td>\n",
       "      <td>홍대 걷고 싶은 거리</td>\n",
       "    </tr>\n",
       "    <tr>\n",
       "      <th>3</th>\n",
       "      <td>2018-10-01</td>\n",
       "      <td>2827</td>\n",
       "      <td>394</td>\n",
       "      <td>623</td>\n",
       "      <td>홍대 걷고 싶은 거리</td>\n",
       "    </tr>\n",
       "    <tr>\n",
       "      <th>4</th>\n",
       "      <td>2018-11-01</td>\n",
       "      <td>2004</td>\n",
       "      <td>356</td>\n",
       "      <td>583</td>\n",
       "      <td>홍대 걷고 싶은 거리</td>\n",
       "    </tr>\n",
       "    <tr>\n",
       "      <th>5</th>\n",
       "      <td>2018-12-01</td>\n",
       "      <td>1457</td>\n",
       "      <td>223</td>\n",
       "      <td>173</td>\n",
       "      <td>홍대 걷고 싶은 거리</td>\n",
       "    </tr>\n",
       "    <tr>\n",
       "      <th>6</th>\n",
       "      <td>2019-01-01</td>\n",
       "      <td>1444</td>\n",
       "      <td>143</td>\n",
       "      <td>127</td>\n",
       "      <td>홍대 걷고 싶은 거리</td>\n",
       "    </tr>\n",
       "    <tr>\n",
       "      <th>7</th>\n",
       "      <td>2019-02-01</td>\n",
       "      <td>6886</td>\n",
       "      <td>215</td>\n",
       "      <td>220</td>\n",
       "      <td>홍대 걷고 싶은 거리</td>\n",
       "    </tr>\n",
       "    <tr>\n",
       "      <th>8</th>\n",
       "      <td>2019-03-01</td>\n",
       "      <td>1945</td>\n",
       "      <td>175</td>\n",
       "      <td>160</td>\n",
       "      <td>홍대 걷고 싶은 거리</td>\n",
       "    </tr>\n",
       "    <tr>\n",
       "      <th>9</th>\n",
       "      <td>2019-04-01</td>\n",
       "      <td>1773</td>\n",
       "      <td>90</td>\n",
       "      <td>103</td>\n",
       "      <td>홍대 걷고 싶은 거리</td>\n",
       "    </tr>\n",
       "  </tbody>\n",
       "</table>\n",
       "</div>"
      ],
      "text/plain": [
       "         date positive negative neutral         addr\n",
       "0  2018-07-01     2956      648     295  홍대 걷고 싶은 거리\n",
       "1  2018-08-01     2247      111     200  홍대 걷고 싶은 거리\n",
       "2  2018-09-01     3602      635     436  홍대 걷고 싶은 거리\n",
       "3  2018-10-01     2827      394     623  홍대 걷고 싶은 거리\n",
       "4  2018-11-01     2004      356     583  홍대 걷고 싶은 거리\n",
       "5  2018-12-01     1457      223     173  홍대 걷고 싶은 거리\n",
       "6  2019-01-01     1444      143     127  홍대 걷고 싶은 거리\n",
       "7  2019-02-01     6886      215     220  홍대 걷고 싶은 거리\n",
       "8  2019-03-01     1945      175     160  홍대 걷고 싶은 거리\n",
       "9  2019-04-01     1773       90     103  홍대 걷고 싶은 거리"
      ]
     },
     "execution_count": 26,
     "metadata": {},
     "output_type": "execute_result"
    }
   ],
   "source": [
    "import pandas as pd\n",
    "df = pd.DataFrame(data['items'])\n",
    "df"
   ]
  },
  {
   "cell_type": "code",
   "execution_count": null,
   "metadata": {},
   "outputs": [],
   "source": []
  }
 ],
 "metadata": {
  "colab": {
   "authorship_tag": "ABX9TyMM9bcGMQdkO/nwIX0kAuhm",
   "collapsed_sections": [],
   "name": "08_crawler.ipynb",
   "provenance": []
  },
  "kernelspec": {
   "display_name": "Python 3",
   "language": "python",
   "name": "python3"
  },
  "language_info": {
   "codemirror_mode": {
    "name": "ipython",
    "version": 3
   },
   "file_extension": ".py",
   "mimetype": "text/x-python",
   "name": "python",
   "nbconvert_exporter": "python",
   "pygments_lexer": "ipython3",
   "version": "3.8.8"
  },
  "toc": {
   "base_numbering": 1,
   "nav_menu": {},
   "number_sections": true,
   "sideBar": true,
   "skip_h1_title": true,
   "title_cell": "Table of Contents",
   "title_sidebar": "Contents",
   "toc_cell": false,
   "toc_position": {},
   "toc_section_display": true,
   "toc_window_display": false
  },
  "varInspector": {
   "cols": {
    "lenName": 16,
    "lenType": 16,
    "lenVar": 40
   },
   "kernels_config": {
    "python": {
     "delete_cmd_postfix": "",
     "delete_cmd_prefix": "del ",
     "library": "var_list.py",
     "varRefreshCmd": "print(var_dic_list())"
    },
    "r": {
     "delete_cmd_postfix": ") ",
     "delete_cmd_prefix": "rm(",
     "library": "var_list.r",
     "varRefreshCmd": "cat(var_dic_list()) "
    }
   },
   "types_to_exclude": [
    "module",
    "function",
    "builtin_function_or_method",
    "instance",
    "_Feature"
   ],
   "window_display": false
  }
 },
 "nbformat": 4,
 "nbformat_minor": 1
}
