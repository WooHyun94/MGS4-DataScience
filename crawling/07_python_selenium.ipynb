{
 "cells": [
  {
   "cell_type": "code",
   "execution_count": 2,
   "metadata": {},
   "outputs": [],
   "source": [
    "from selenium import webdriver\n",
    "from bs4 import BeautifulSoup\n",
    "\n",
    "browser = webdriver.Chrome()"
   ]
  },
  {
   "cell_type": "code",
   "execution_count": 3,
   "metadata": {},
   "outputs": [],
   "source": [
    "url = 'https://www.youtube.com'\n",
    "\n",
    "browser.get(url)"
   ]
  },
  {
   "cell_type": "code",
   "execution_count": null,
   "metadata": {},
   "outputs": [],
   "source": []
  },
  {
   "cell_type": "code",
   "execution_count": null,
   "metadata": {},
   "outputs": [],
   "source": []
  },
  {
   "cell_type": "code",
   "execution_count": null,
   "metadata": {},
   "outputs": [],
   "source": []
  },
  {
   "cell_type": "code",
   "execution_count": null,
   "metadata": {},
   "outputs": [],
   "source": []
  },
  {
   "cell_type": "markdown",
   "metadata": {
    "slideshow": {
     "slide_type": "slide"
    }
   },
   "source": [
    "# 데이터 크롤링"
   ]
  },
  {
   "cell_type": "markdown",
   "metadata": {
    "slideshow": {
     "slide_type": "slide"
    }
   },
   "source": [
    "## selenium(셀레니움)\n",
    "    \n",
    "> 웹 어플리케이션 테스트를 위한 프레임워크.  \n",
    "다양한 브라우저 작동을 지원하며 크롤링에도 활용가능.  \n",
    "정적, 동적페이지 크롤링으로도 접근이 불가능한 데이터에 접근할 때 유용하게 사용  \n",
    "현존하는 거의 모든 웹브라우저를 다양한 언어를 통해 제어 가능"
   ]
  },
  {
   "cell_type": "markdown",
   "metadata": {
    "slideshow": {
     "slide_type": "slide"
    }
   },
   "source": [
    "## selenium Setting\n",
    "\n",
    "> 셀레니움은 이 웹 드라이버 API를 제어하는 파이썬 패키지입니다."
   ]
  },
  {
   "cell_type": "markdown",
   "metadata": {},
   "source": [
    "### 패키지 설치"
   ]
  },
  {
   "cell_type": "code",
   "execution_count": 1,
   "metadata": {
    "ExecuteTime": {
     "end_time": "2022-04-28T10:13:11.736734Z",
     "start_time": "2022-04-28T10:13:10.718495Z"
    },
    "scrolled": true,
    "slideshow": {
     "slide_type": "slide"
    }
   },
   "outputs": [
    {
     "name": "stdout",
     "output_type": "stream",
     "text": [
      "Requirement already satisfied: selenium in c:\\users\\94dng\\anaconda3\\envs\\kdt\\lib\\site-packages (3.141.0)\n",
      "Requirement already satisfied: urllib3 in c:\\users\\94dng\\anaconda3\\envs\\kdt\\lib\\site-packages (from selenium) (1.26.11)\n"
     ]
    }
   ],
   "source": [
    "# 셀레니움 설치\n",
    "!pip install selenium --trusted-host pypi.org --trusted-host files.pythonhosted.org"
   ]
  },
  {
   "cell_type": "code",
   "execution_count": 2,
   "metadata": {
    "scrolled": false
   },
   "outputs": [
    {
     "name": "stdout",
     "output_type": "stream",
     "text": [
      "Requirement already satisfied: webdriver-manager in c:\\users\\94dng\\anaconda3\\envs\\kdt\\lib\\site-packages (3.8.3)\n",
      "Requirement already satisfied: tqdm in c:\\users\\94dng\\anaconda3\\envs\\kdt\\lib\\site-packages (from webdriver-manager) (4.64.1)\n",
      "Requirement already satisfied: python-dotenv in c:\\users\\94dng\\anaconda3\\envs\\kdt\\lib\\site-packages (from webdriver-manager) (0.21.0)\n",
      "Requirement already satisfied: requests in c:\\users\\94dng\\anaconda3\\envs\\kdt\\lib\\site-packages (from webdriver-manager) (2.28.1)\n",
      "Requirement already satisfied: idna<4,>=2.5 in c:\\users\\94dng\\anaconda3\\envs\\kdt\\lib\\site-packages (from requests->webdriver-manager) (3.3)\n",
      "Requirement already satisfied: certifi>=2017.4.17 in c:\\users\\94dng\\anaconda3\\envs\\kdt\\lib\\site-packages (from requests->webdriver-manager) (2022.6.15)\n",
      "Requirement already satisfied: urllib3<1.27,>=1.21.1 in c:\\users\\94dng\\anaconda3\\envs\\kdt\\lib\\site-packages (from requests->webdriver-manager) (1.26.11)\n",
      "Requirement already satisfied: charset-normalizer<3,>=2 in c:\\users\\94dng\\anaconda3\\envs\\kdt\\lib\\site-packages (from requests->webdriver-manager) (2.1.1)\n",
      "Requirement already satisfied: colorama in c:\\users\\94dng\\anaconda3\\envs\\kdt\\lib\\site-packages (from tqdm->webdriver-manager) (0.4.5)\n"
     ]
    }
   ],
   "source": [
    "# 크롬드라이버 관리 툴 설치\n",
    "!pip install webdriver-manager --trusted-host pypi.org --trusted-host files.pythonhosted.org"
   ]
  },
  {
   "cell_type": "code",
   "execution_count": 3,
   "metadata": {
    "ExecuteTime": {
     "end_time": "2022-06-08T02:10:30.953692Z",
     "start_time": "2022-06-08T02:10:30.887043Z"
    }
   },
   "outputs": [],
   "source": [
    "# 셀레니움 import\n",
    "\n",
    "from selenium import webdriver\n",
    "from selenium.webdriver.common.keys import Keys\n",
    "from selenium.webdriver.common.by import By\n",
    "from selenium.webdriver.chrome.service import Service\n",
    "from webdriver_manager.chrome import ChromeDriverManager"
   ]
  },
  {
   "cell_type": "code",
   "execution_count": 2,
   "metadata": {
    "ExecuteTime": {
     "end_time": "2022-06-08T02:10:50.476112Z",
     "start_time": "2022-06-08T02:10:50.461697Z"
    }
   },
   "outputs": [],
   "source": [
    "# 강사 개인정보 수강생분들은 import 안하셔도 됩니다.\n",
    "from mykey import MyKey\n",
    "key = MyKey()"
   ]
  },
  {
   "cell_type": "markdown",
   "metadata": {},
   "source": [
    "### webdriver 자동설정"
   ]
  },
  {
   "cell_type": "code",
   "execution_count": 4,
   "metadata": {
    "ExecuteTime": {
     "end_time": "2022-06-08T02:11:18.314465Z",
     "start_time": "2022-06-08T02:11:18.305860Z"
    }
   },
   "outputs": [],
   "source": [
    "# webdriver 자동설정\n",
    "def set_chrome_driver():\n",
    "    chrome_options = webdriver.ChromeOptions()\n",
    "    driver = webdriver.Chrome(service=Service(ChromeDriverManager().install()), options=chrome_options)\n",
    "    return driver"
   ]
  },
  {
   "cell_type": "markdown",
   "metadata": {},
   "source": [
    "### webdriver 수동설정\n",
    "> 최근 selenium 업데이트로 자동설정을 권장하고 있습니다.  \n",
    "만약 위의 방법이 진행되지 않으면 사용해야 하는 브라우저의 웹드라이버 다운 필요  \n",
    "크롬 환경설정 -> 크롬 정보로 크롬 버전 확인 필요  \n",
    "    \n",
    ">> 크롬 드라이버 다운로드  \n",
    "https://chromedriver.chromium.org/downloads"
   ]
  },
  {
   "cell_type": "markdown",
   "metadata": {
    "slideshow": {
     "slide_type": "slide"
    }
   },
   "source": [
    "## 간단한 브라우저 컨트롤로 기본 개념잡기"
   ]
  },
  {
   "cell_type": "code",
   "execution_count": 5,
   "metadata": {
    "ExecuteTime": {
     "end_time": "2022-06-08T02:12:22.984502Z",
     "start_time": "2022-06-08T02:12:22.839256Z"
    }
   },
   "outputs": [],
   "source": [
    "import time\n",
    "import warnings\n",
    "warnings.filterwarnings(action='ignore')\n",
    "import numpy as np\n",
    "import pandas as pd\n",
    "from bs4 import BeautifulSoup"
   ]
  },
  {
   "cell_type": "code",
   "execution_count": 6,
   "metadata": {
    "ExecuteTime": {
     "end_time": "2022-06-08T05:55:39.436932Z",
     "start_time": "2022-06-08T05:55:37.849564Z"
    }
   },
   "outputs": [],
   "source": [
    "# 크롬창 열기\n",
    "# 자동설정\n",
    "driver = set_chrome_driver()\n",
    "# 수동설정\n"
   ]
  },
  {
   "cell_type": "code",
   "execution_count": 7,
   "metadata": {
    "ExecuteTime": {
     "end_time": "2022-06-08T03:58:27.969518Z",
     "start_time": "2022-06-08T03:58:27.369629Z"
    }
   },
   "outputs": [],
   "source": [
    "# 설정한 url로 데이터 get함수로 요청\n",
    "url = 'https://naver.com'\n",
    "driver.get(url)"
   ]
  },
  {
   "cell_type": "code",
   "execution_count": 15,
   "metadata": {
    "ExecuteTime": {
     "end_time": "2022-06-08T04:02:37.693692Z",
     "start_time": "2022-06-08T04:02:37.322743Z"
    }
   },
   "outputs": [],
   "source": [
    "# 선택항목 클릭\n",
    "driver.find_element(By.XPATH, '//*[@id=\"NM_THEME_CATE_LIST\"]/li[2]/a').click()"
   ]
  },
  {
   "cell_type": "code",
   "execution_count": 16,
   "metadata": {
    "ExecuteTime": {
     "end_time": "2022-06-08T03:47:45.005331Z",
     "start_time": "2022-06-08T03:47:44.964049Z"
    }
   },
   "outputs": [],
   "source": [
    "# 네이버 검색창 클릭\n",
    "driver.find_element(By.XPATH, '//*[@id=\"query\"]').click()"
   ]
  },
  {
   "cell_type": "code",
   "execution_count": 8,
   "metadata": {
    "ExecuteTime": {
     "end_time": "2022-06-08T03:50:02.552143Z",
     "start_time": "2022-06-08T03:50:02.514291Z"
    }
   },
   "outputs": [],
   "source": [
    "# 검색어 입력\n",
    "driver.find_element(By.XPATH, '//*[@id=\"query\"]').send_keys('인스타그램')"
   ]
  },
  {
   "cell_type": "code",
   "execution_count": 9,
   "metadata": {
    "ExecuteTime": {
     "end_time": "2022-06-08T03:50:14.605876Z",
     "start_time": "2022-06-08T03:50:14.565623Z"
    }
   },
   "outputs": [],
   "source": [
    "# 입력테스트 지우기\n",
    "driver.find_element(By.XPATH, '//*[@id=\"query\"]').clear()"
   ]
  },
  {
   "cell_type": "code",
   "execution_count": 22,
   "metadata": {
    "ExecuteTime": {
     "end_time": "2022-06-08T03:49:53.512162Z",
     "start_time": "2022-06-08T03:49:53.306354Z"
    }
   },
   "outputs": [],
   "source": [
    "# 웹페이지 뒤로\n",
    "driver.back()"
   ]
  },
  {
   "cell_type": "code",
   "execution_count": 16,
   "metadata": {
    "ExecuteTime": {
     "end_time": "2022-06-08T03:52:53.547742Z",
     "start_time": "2022-06-08T03:52:53.541278Z"
    }
   },
   "outputs": [],
   "source": [
    "# 화면 최하단으로 스크롤\n"
   ]
  },
  {
   "cell_type": "code",
   "execution_count": 10,
   "metadata": {
    "ExecuteTime": {
     "end_time": "2022-06-08T03:58:32.247419Z",
     "start_time": "2022-06-08T03:58:31.902057Z"
    }
   },
   "outputs": [],
   "source": [
    "# 네이버 로그인 클릭\n",
    "login_path = '//*[@id=\"account\"]/a'\n",
    "driver.find_element(By.XPATH, login_path).click()"
   ]
  },
  {
   "cell_type": "code",
   "execution_count": 20,
   "metadata": {
    "ExecuteTime": {
     "end_time": "2022-06-08T03:58:36.958718Z",
     "start_time": "2022-06-08T03:58:36.853388Z"
    }
   },
   "outputs": [],
   "source": [
    "# 아이디입력\n",
    "driver.find_element(By.XPATH, '//*[@id=\"id\"]').send_keys('92dnals')"
   ]
  },
  {
   "cell_type": "code",
   "execution_count": 21,
   "metadata": {
    "ExecuteTime": {
     "end_time": "2022-06-08T03:59:48.757108Z",
     "start_time": "2022-06-08T03:59:48.333452Z"
    }
   },
   "outputs": [],
   "source": [
    "# 로그인 버튼 클릭\n",
    "driver.find_element(By.XPATH, '//*[@id=\"pw\"]').send_keys('rkdmfdlehekadl!')"
   ]
  },
  {
   "cell_type": "code",
   "execution_count": 22,
   "metadata": {},
   "outputs": [],
   "source": [
    "driver.find_element(By.XPATH, '//*[@id=\"log.login\"]/span').click()"
   ]
  },
  {
   "cell_type": "code",
   "execution_count": 29,
   "metadata": {},
   "outputs": [
    {
     "ename": "NoSuchElementException",
     "evalue": "Message: no such element: Unable to locate element: {\"method\":\"xpath\",\"selector\":\"//*[@id=\"NM_MY_TAB\"]/div/div[1]/a[3]\"}\n  (Session info: chrome=105.0.5195.102)\nStacktrace:\nBacktrace:\n\tOrdinal0 [0x010ADF13+2219795]\n\tOrdinal0 [0x01042841+1779777]\n\tOrdinal0 [0x00F5423D+803389]\n\tOrdinal0 [0x00F83025+995365]\n\tOrdinal0 [0x00F831EB+995819]\n\tOrdinal0 [0x00FB0F52+1183570]\n\tOrdinal0 [0x00F9E844+1108036]\n\tOrdinal0 [0x00FAF192+1175954]\n\tOrdinal0 [0x00F9E616+1107478]\n\tOrdinal0 [0x00F77F89+950153]\n\tOrdinal0 [0x00F78F56+954198]\n\tGetHandleVerifier [0x013A2CB2+3040210]\n\tGetHandleVerifier [0x01392BB4+2974420]\n\tGetHandleVerifier [0x01146A0A+565546]\n\tGetHandleVerifier [0x01145680+560544]\n\tOrdinal0 [0x01049A5C+1808988]\n\tOrdinal0 [0x0104E3A8+1827752]\n\tOrdinal0 [0x0104E495+1827989]\n\tOrdinal0 [0x010580A4+1867940]\n\tBaseThreadInitThunk [0x76B96739+25]\n\tRtlGetFullPathName_UEx [0x77CB90AF+1215]\n\tRtlGetFullPathName_UEx [0x77CB907D+1165]\n",
     "output_type": "error",
     "traceback": [
      "\u001b[1;31m---------------------------------------------------------------------------\u001b[0m",
      "\u001b[1;31mNoSuchElementException\u001b[0m                    Traceback (most recent call last)",
      "\u001b[1;32m<ipython-input-29-fbc42a328708>\u001b[0m in \u001b[0;36m<module>\u001b[1;34m\u001b[0m\n\u001b[1;32m----> 1\u001b[1;33m \u001b[0mdriver\u001b[0m\u001b[1;33m.\u001b[0m\u001b[0mfind_element\u001b[0m\u001b[1;33m(\u001b[0m\u001b[0mBy\u001b[0m\u001b[1;33m.\u001b[0m\u001b[0mXPATH\u001b[0m\u001b[1;33m,\u001b[0m \u001b[1;34m'//*[@id=\"NM_MY_TAB\"]/div/div[1]/a[3]'\u001b[0m\u001b[1;33m)\u001b[0m\u001b[1;33m.\u001b[0m\u001b[0mclick\u001b[0m\u001b[1;33m(\u001b[0m\u001b[1;33m)\u001b[0m\u001b[1;33m\u001b[0m\u001b[1;33m\u001b[0m\u001b[0m\n\u001b[0m",
      "\u001b[1;32m~\\Anaconda3\\lib\\site-packages\\selenium\\webdriver\\remote\\webdriver.py\u001b[0m in \u001b[0;36mfind_element\u001b[1;34m(self, by, value)\u001b[0m\n\u001b[0;32m    853\u001b[0m             \u001b[0mvalue\u001b[0m \u001b[1;33m=\u001b[0m \u001b[1;34m'[name=\"%s\"]'\u001b[0m \u001b[1;33m%\u001b[0m \u001b[0mvalue\u001b[0m\u001b[1;33m\u001b[0m\u001b[1;33m\u001b[0m\u001b[0m\n\u001b[0;32m    854\u001b[0m \u001b[1;33m\u001b[0m\u001b[0m\n\u001b[1;32m--> 855\u001b[1;33m         return self.execute(Command.FIND_ELEMENT, {\n\u001b[0m\u001b[0;32m    856\u001b[0m             \u001b[1;34m'using'\u001b[0m\u001b[1;33m:\u001b[0m \u001b[0mby\u001b[0m\u001b[1;33m,\u001b[0m\u001b[1;33m\u001b[0m\u001b[1;33m\u001b[0m\u001b[0m\n\u001b[0;32m    857\u001b[0m             'value': value})['value']\n",
      "\u001b[1;32m~\\Anaconda3\\lib\\site-packages\\selenium\\webdriver\\remote\\webdriver.py\u001b[0m in \u001b[0;36mexecute\u001b[1;34m(self, driver_command, params)\u001b[0m\n\u001b[0;32m    426\u001b[0m         \u001b[0mresponse\u001b[0m \u001b[1;33m=\u001b[0m \u001b[0mself\u001b[0m\u001b[1;33m.\u001b[0m\u001b[0mcommand_executor\u001b[0m\u001b[1;33m.\u001b[0m\u001b[0mexecute\u001b[0m\u001b[1;33m(\u001b[0m\u001b[0mdriver_command\u001b[0m\u001b[1;33m,\u001b[0m \u001b[0mparams\u001b[0m\u001b[1;33m)\u001b[0m\u001b[1;33m\u001b[0m\u001b[1;33m\u001b[0m\u001b[0m\n\u001b[0;32m    427\u001b[0m         \u001b[1;32mif\u001b[0m \u001b[0mresponse\u001b[0m\u001b[1;33m:\u001b[0m\u001b[1;33m\u001b[0m\u001b[1;33m\u001b[0m\u001b[0m\n\u001b[1;32m--> 428\u001b[1;33m             \u001b[0mself\u001b[0m\u001b[1;33m.\u001b[0m\u001b[0merror_handler\u001b[0m\u001b[1;33m.\u001b[0m\u001b[0mcheck_response\u001b[0m\u001b[1;33m(\u001b[0m\u001b[0mresponse\u001b[0m\u001b[1;33m)\u001b[0m\u001b[1;33m\u001b[0m\u001b[1;33m\u001b[0m\u001b[0m\n\u001b[0m\u001b[0;32m    429\u001b[0m             response['value'] = self._unwrap_value(\n\u001b[0;32m    430\u001b[0m                 response.get('value', None))\n",
      "\u001b[1;32m~\\Anaconda3\\lib\\site-packages\\selenium\\webdriver\\remote\\errorhandler.py\u001b[0m in \u001b[0;36mcheck_response\u001b[1;34m(self, response)\u001b[0m\n\u001b[0;32m    241\u001b[0m                 \u001b[0malert_text\u001b[0m \u001b[1;33m=\u001b[0m \u001b[0mvalue\u001b[0m\u001b[1;33m[\u001b[0m\u001b[1;34m'alert'\u001b[0m\u001b[1;33m]\u001b[0m\u001b[1;33m.\u001b[0m\u001b[0mget\u001b[0m\u001b[1;33m(\u001b[0m\u001b[1;34m'text'\u001b[0m\u001b[1;33m)\u001b[0m\u001b[1;33m\u001b[0m\u001b[1;33m\u001b[0m\u001b[0m\n\u001b[0;32m    242\u001b[0m             \u001b[1;32mraise\u001b[0m \u001b[0mexception_class\u001b[0m\u001b[1;33m(\u001b[0m\u001b[0mmessage\u001b[0m\u001b[1;33m,\u001b[0m \u001b[0mscreen\u001b[0m\u001b[1;33m,\u001b[0m \u001b[0mstacktrace\u001b[0m\u001b[1;33m,\u001b[0m \u001b[0malert_text\u001b[0m\u001b[1;33m)\u001b[0m  \u001b[1;31m# type: ignore[call-arg]  # mypy is not smart enough here\u001b[0m\u001b[1;33m\u001b[0m\u001b[1;33m\u001b[0m\u001b[0m\n\u001b[1;32m--> 243\u001b[1;33m         \u001b[1;32mraise\u001b[0m \u001b[0mexception_class\u001b[0m\u001b[1;33m(\u001b[0m\u001b[0mmessage\u001b[0m\u001b[1;33m,\u001b[0m \u001b[0mscreen\u001b[0m\u001b[1;33m,\u001b[0m \u001b[0mstacktrace\u001b[0m\u001b[1;33m)\u001b[0m\u001b[1;33m\u001b[0m\u001b[1;33m\u001b[0m\u001b[0m\n\u001b[0m",
      "\u001b[1;31mNoSuchElementException\u001b[0m: Message: no such element: Unable to locate element: {\"method\":\"xpath\",\"selector\":\"//*[@id=\"NM_MY_TAB\"]/div/div[1]/a[3]\"}\n  (Session info: chrome=105.0.5195.102)\nStacktrace:\nBacktrace:\n\tOrdinal0 [0x010ADF13+2219795]\n\tOrdinal0 [0x01042841+1779777]\n\tOrdinal0 [0x00F5423D+803389]\n\tOrdinal0 [0x00F83025+995365]\n\tOrdinal0 [0x00F831EB+995819]\n\tOrdinal0 [0x00FB0F52+1183570]\n\tOrdinal0 [0x00F9E844+1108036]\n\tOrdinal0 [0x00FAF192+1175954]\n\tOrdinal0 [0x00F9E616+1107478]\n\tOrdinal0 [0x00F77F89+950153]\n\tOrdinal0 [0x00F78F56+954198]\n\tGetHandleVerifier [0x013A2CB2+3040210]\n\tGetHandleVerifier [0x01392BB4+2974420]\n\tGetHandleVerifier [0x01146A0A+565546]\n\tGetHandleVerifier [0x01145680+560544]\n\tOrdinal0 [0x01049A5C+1808988]\n\tOrdinal0 [0x0104E3A8+1827752]\n\tOrdinal0 [0x0104E495+1827989]\n\tOrdinal0 [0x010580A4+1867940]\n\tBaseThreadInitThunk [0x76B96739+25]\n\tRtlGetFullPathName_UEx [0x77CB90AF+1215]\n\tRtlGetFullPathName_UEx [0x77CB907D+1165]\n"
     ]
    }
   ],
   "source": [
    "driver.find_element(By.XPATH, '//*[@id=\"NM_MY_TAB\"]/div/div[1]/a[3]').click()"
   ]
  },
  {
   "cell_type": "markdown",
   "metadata": {},
   "source": [
    "## 인스타그램 크롤링"
   ]
  },
  {
   "cell_type": "code",
   "execution_count": 33,
   "metadata": {
    "ExecuteTime": {
     "end_time": "2022-06-08T05:55:49.524150Z",
     "start_time": "2022-06-08T05:55:47.567978Z"
    },
    "scrolled": true
   },
   "outputs": [],
   "source": [
    "# url 페이지 이동\n",
    "url = 'https://instagram.com/'\n",
    "driver.get(url)"
   ]
  },
  {
   "cell_type": "code",
   "execution_count": 38,
   "metadata": {
    "ExecuteTime": {
     "end_time": "2022-06-08T04:15:41.417485Z",
     "start_time": "2022-06-08T04:15:41.274770Z"
    },
    "scrolled": true
   },
   "outputs": [],
   "source": [
    "# 알림설정 팝업창 나중에 하기 클릭\n",
    "driver.find_element(By.XPATH, '//*[@id=\"mount_0_0_Qf\"]/div/div/div/div[1]/div/div/div/div[1]/section/nav/div[2]/div/div/div[2]/div[1]/div/span').click()"
   ]
  },
  {
   "cell_type": "code",
   "execution_count": 41,
   "metadata": {
    "ExecuteTime": {
     "end_time": "2022-06-08T04:18:29.516223Z",
     "start_time": "2022-06-08T04:18:29.348703Z"
    }
   },
   "outputs": [],
   "source": [
    "# 검색 키워드로 크롤링을 하기 위해 검색어 입력\n",
    "driver.find_element(By.XPATH, '//*[@id=\"mount_0_0_Qf\"]/div/div/div/div[1]/div/div/div/div[1]/section/nav/div[2]/div/div/div[2]/input').send_keys('해방촌')"
   ]
  },
  {
   "cell_type": "code",
   "execution_count": 42,
   "metadata": {
    "ExecuteTime": {
     "end_time": "2022-06-08T04:19:43.455774Z",
     "start_time": "2022-06-08T04:19:43.280703Z"
    }
   },
   "outputs": [],
   "source": [
    "# 첫번째 항목 접근\n",
    "driver.find_element(By.XPATH, '//*[@id=\"f3ef4312c603\"]/div/div').click()"
   ]
  },
  {
   "cell_type": "code",
   "execution_count": 43,
   "metadata": {
    "ExecuteTime": {
     "end_time": "2022-06-08T04:36:59.781665Z",
     "start_time": "2022-06-08T04:36:59.678365Z"
    }
   },
   "outputs": [],
   "source": [
    "# 첫번째 포스팅 클릭\n",
    "driver.find_element(By.XPATH, '//*[@id=\"mount_0_0_Qf\"]/div/div/div/div[1]/div/div/div/div[1]/section/main/article/div[1]/div/div/div[1]/div[1]/a/div[1]/div[2]').click()"
   ]
  },
  {
   "cell_type": "code",
   "execution_count": 47,
   "metadata": {
    "ExecuteTime": {
     "end_time": "2022-06-08T04:39:12.763738Z",
     "start_time": "2022-06-08T04:39:12.688243Z"
    }
   },
   "outputs": [],
   "source": [
    "# 좋아요 누르기\n",
    "driver.find_element(By.XPATH, '//*[@id=\"mount_0_0_Qf\"]/div/div/div/div[2]/div/div/div[1]/div/div[3]/div/div/div/div/div[2]/div/article/div/div[2]/div/div/div[2]/section[1]/span[1]/button').click()"
   ]
  },
  {
   "cell_type": "code",
   "execution_count": 39,
   "metadata": {
    "ExecuteTime": {
     "end_time": "2022-06-08T04:40:41.458851Z",
     "start_time": "2022-06-08T04:40:41.367317Z"
    }
   },
   "outputs": [],
   "source": [
    "# 댓글 달기\n"
   ]
  },
  {
   "cell_type": "code",
   "execution_count": 48,
   "metadata": {
    "ExecuteTime": {
     "end_time": "2022-06-08T04:44:46.208592Z",
     "start_time": "2022-06-08T04:44:46.103381Z"
    }
   },
   "outputs": [],
   "source": [
    "# 첫번째 포스팅 뒤로 넘기는 버튼\n"
   ]
  },
  {
   "cell_type": "code",
   "execution_count": 56,
   "metadata": {
    "ExecuteTime": {
     "end_time": "2022-06-08T04:46:00.554521Z",
     "start_time": "2022-06-08T04:46:00.492813Z"
    }
   },
   "outputs": [],
   "source": [
    "# 두번째 포스팅부터 뒤로 넘기는 버튼\n"
   ]
  },
  {
   "cell_type": "code",
   "execution_count": 55,
   "metadata": {
    "ExecuteTime": {
     "end_time": "2022-06-08T06:22:30.485969Z",
     "start_time": "2022-06-08T06:22:30.453867Z"
    }
   },
   "outputs": [
    {
     "name": "stdout",
     "output_type": "stream",
     "text": [
      "#포인트소개\n",
      "#전망대\n",
      "#해방촌\n",
      "#오잇\n",
      "#해방촌카페\n",
      "#이태원카페\n",
      "#카페투어\n",
      "#맛집투어\n",
      "#전망맛집\n",
      "#카페그램\n"
     ]
    }
   ],
   "source": [
    "# 접근한 페이지의 소스 코드 페이지 html 가져오기\n",
    "html = BeautifulSoup(driver.page_source, 'html.parser')\n",
    "for item in html.select('a._aa9_'):\n",
    "    print(item.text)"
   ]
  },
  {
   "cell_type": "code",
   "execution_count": 120,
   "metadata": {
    "ExecuteTime": {
     "end_time": "2022-06-08T06:22:30.888918Z",
     "start_time": "2022-06-08T06:22:30.855951Z"
    }
   },
   "outputs": [],
   "source": [
    "# html 변환\n"
   ]
  },
  {
   "cell_type": "code",
   "execution_count": 124,
   "metadata": {
    "ExecuteTime": {
     "end_time": "2022-06-08T06:22:56.669322Z",
     "start_time": "2022-06-08T06:22:56.658982Z"
    }
   },
   "outputs": [
    {
     "name": "stdout",
     "output_type": "stream",
     "text": [
      "#01년생\n",
      "#이태원카페\n",
      "#해방촌\n",
      "#루프탑\n",
      "#해방촌카페\n",
      "#핫플\n",
      "#셀피\n",
      "#itaewon\n",
      "#셀스타그램\n",
      "#서울야경\n",
      "#화곡\n",
      "#마곡\n",
      "#오목교\n",
      "#남산\n",
      "#이태원펍\n",
      "#pub\n",
      "#칵테일\n"
     ]
    }
   ],
   "source": [
    "# 태그 셀렉\n"
   ]
  },
  {
   "cell_type": "code",
   "execution_count": 63,
   "metadata": {
    "ExecuteTime": {
     "end_time": "2022-06-08T05:01:23.798182Z",
     "start_time": "2022-06-08T05:01:23.780049Z"
    }
   },
   "outputs": [
    {
     "data": {
      "text/plain": [
       "'해방촌의 오후 🍂 ㅡ감성적인 서울의 골목길을느낄 수 있는곳가을 바람 맞으며커피한잔의 여유를 즐기고 왔습니다.파란 하늘과 어우러진 해방촌뷰를 소개합니다.밤에 가면 더 좋아요😀ㅡ📌해방촌 카페 오잇 🚩서울 용산구 신흥로 95 ㅡ'"
      ]
     },
     "execution_count": 63,
     "metadata": {},
     "output_type": "execute_result"
    }
   ],
   "source": [
    "# 포스팅 내용 셀렉\n",
    "cnt = 0\n",
    "html.select('span._aaco')[0].text.split('#')[0]"
   ]
  },
  {
   "cell_type": "code",
   "execution_count": 79,
   "metadata": {
    "ExecuteTime": {
     "end_time": "2022-06-08T05:03:39.663303Z",
     "start_time": "2022-06-08T05:03:39.643325Z"
    }
   },
   "outputs": [
    {
     "data": {
      "text/plain": [
       "'6월 6, 2022'"
      ]
     },
     "execution_count": 79,
     "metadata": {},
     "output_type": "execute_result"
    }
   ],
   "source": [
    "# 포스팅 날짜 셀렉\n"
   ]
  },
  {
   "cell_type": "code",
   "execution_count": 75,
   "metadata": {
    "ExecuteTime": {
     "end_time": "2022-06-08T05:18:05.623008Z",
     "start_time": "2022-06-08T05:18:05.605287Z"
    }
   },
   "outputs": [
    {
     "data": {
      "text/plain": [
       "(['https://scontent-gmp1-1.cdninstagram.com/v/t51.2885-15/302666000_1226064568228684_3274613245419336493_n.webp?stp=dst-jpg_e35_p1080x1080&_nc_ht=scontent-gmp1-1.cdninstagram.com&_nc_cat=104&_nc_ohc=6zhcw54Xs5oAX-Ahg-T&edm=APU89FABAAAA&ccb=7-5&oh=00_AT9UeuHno_gsXmC6jQkQJqTlwD1BFUlf2JDG8XWeztEpzA&oe=63212EE6&_nc_sid=86f79a',\n",
       "  'https://scontent-gmp1-1.cdninstagram.com/v/t51.2885-15/300198583_452910896760112_8427065251737114650_n.webp?stp=dst-jpg_e35_p1080x1080&_nc_ht=scontent-gmp1-1.cdninstagram.com&_nc_cat=104&_nc_ohc=43AqJHtA9gIAX-IZ6hB&edm=APU89FABAAAA&ccb=7-5&oh=00_AT-hFcjJFTIXAKyA-0YRS3X0cRVhq-IlHU17Bo5yU45UsA&oe=6320C8B7&_nc_sid=86f79a',\n",
       "  'https://scontent-gmp1-1.cdninstagram.com/v/t51.2885-15/298294645_376527867790576_547888442666004140_n.jpg?stp=dst-jpg_e35&_nc_ht=scontent-gmp1-1.cdninstagram.com&_nc_cat=104&_nc_ohc=N1LVdKFmNxgAX_01guV&edm=AGyKU4gBAAAA&ccb=7-5&ig_cache_key=MjkwMTc0MzkxNjAyODUwMDk0Mg%3D%3D.2-ccb7-5&oh=00_AT_q16r1qP12_P2qmNczVFTiXNXFvCUOtE99GMmfFQcW4w&oe=63210C25&_nc_sid=4cb768',\n",
       "  'https://scontent-gmp1-1.cdninstagram.com/v/t51.2885-15/305285694_578328824020057_4175691721541765188_n.webp?stp=dst-jpg_e35&_nc_ht=scontent-gmp1-1.cdninstagram.com&_nc_cat=101&_nc_ohc=B7ZS4WvZrh8AX-Wcptn&edm=AGyKU4gBAAAA&ccb=7-5&ig_cache_key=MjkxOTgwMjQyMzQ3NjcxNDUwOA%3D%3D.2-ccb7-5&oh=00_AT-N11UN5mg0_TRbSgCK7XJD6U4QGXWs_zKMtWWZQ_piVQ&oe=63208D63&_nc_sid=4cb768',\n",
       "  'https://scontent-gmp1-1.cdninstagram.com/v/t51.2885-15/286941662_1305531683583836_607668731007416433_n.webp?stp=dst-jpg_e35&_nc_ht=scontent-gmp1-1.cdninstagram.com&_nc_cat=108&_nc_ohc=tkzLU3UCg_IAX8Hs-Pn&tn=8wTHC0apnhtpmk5T&edm=AGyKU4gBAAAA&ccb=7-5&ig_cache_key=MjkxODc2MDY2NDYxNDYyNDI0OQ%3D%3D.2-ccb7-5&oh=00_AT90x8tFuV86P6Hx0S3C2ouKPoR_NvnH1TSDpc4NfTcy7w&oe=631FCFA5&_nc_sid=4cb768',\n",
       "  'https://scontent-gmp1-1.cdninstagram.com/v/t51.2885-15/305566174_755174615785805_5116072273966989072_n.jpg?stp=dst-jpg_e35&_nc_ht=scontent-gmp1-1.cdninstagram.com&_nc_cat=105&_nc_ohc=kSsrBybeR_4AX_N2mJa&edm=AGyKU4gBAAAA&ccb=7-5&ig_cache_key=MjkyMjEwMjk2NjU2NTMzOTMwNQ%3D%3D.2-ccb7-5&oh=00_AT-xvgRDXgTF2nUQxjM7MMcRvlDA8372zCkSS8iGG-SrJw&oe=63219E12&_nc_sid=4cb768',\n",
       "  'https://scontent-gmp1-1.cdninstagram.com/v/t51.2885-15/301138910_1045655472816643_3980270314569622970_n.jpg?stp=dst-jpg_e35&_nc_ht=scontent-gmp1-1.cdninstagram.com&_nc_cat=107&_nc_ohc=L5CLm1C2P3sAX_KdNJ0&edm=AGyKU4gBAAAA&ccb=7-5&ig_cache_key=MjkxNDU2NzMxNjkyMjc5Mjg2MQ%3D%3D.2-ccb7-5&oh=00_AT--MBen1ahd6wgavegS7hab9Ggz6rTcw6TunEY4H_aFxA&oe=63214763&_nc_sid=4cb768',\n",
       "  'https://scontent-gmp1-1.cdninstagram.com/v/t51.2885-15/305147019_126523700131274_7021564343029307896_n.jpg?stp=dst-jpg_e35&_nc_ht=scontent-gmp1-1.cdninstagram.com&_nc_cat=102&_nc_ohc=sLdykhuO4ZAAX_q5Sjl&edm=AGyKU4gBAAAA&ccb=7-5&ig_cache_key=MjkyMTI4NDUzNzk2OTYyMTcwMg%3D%3D.2-ccb7-5&oh=00_AT-duyjG6RKYfg2Q2KTzThk-0LWeL9l874otpDV24-6hCw&oe=631FFCBF&_nc_sid=4cb768',\n",
       "  'https://scontent-gmp1-1.cdninstagram.com/v/t51.2885-15/305523444_202550882121644_283956180792845216_n.jpg?stp=dst-jpg_e35&_nc_ht=scontent-gmp1-1.cdninstagram.com&_nc_cat=108&_nc_ohc=7RMKlmK_-EsAX9bmCoW&edm=AGyKU4gBAAAA&ccb=7-5&ig_cache_key=MjkyMjYyNjQ1MjA2ODg5NDU5MQ%3D%3D.2-ccb7-5&oh=00_AT_DRyslcUgWPQg68cZgaClZe63wSrVP6UTj1OXsH1OclQ&oe=631FF14D&_nc_sid=4cb768',\n",
       "  'https://scontent-gmp1-1.cdninstagram.com/v/t51.2885-15/305589126_1851886235142590_3831541862724168216_n.jpg?stp=dst-jpg_e35&_nc_ht=scontent-gmp1-1.cdninstagram.com&_nc_cat=102&_nc_ohc=2Sc7Zn-FFFkAX8p3CwI&tn=8wTHC0apnhtpmk5T&edm=AGyKU4gBAAAA&ccb=7-5&ig_cache_key=MjkyMjczODI0NDExODc4MjQ2Mg%3D%3D.2-ccb7-5&oh=00_AT8GgvIAy4cUUfB7OalsRxebiDea9eudEZUPeZsCh8OueA&oe=63219170&_nc_sid=4cb768',\n",
       "  'https://scontent-gmp1-1.cdninstagram.com/v/t51.2885-15/305286292_1517442548740963_888264694668729603_n.jpg?stp=dst-jpg_e35&_nc_ht=scontent-gmp1-1.cdninstagram.com&_nc_cat=107&_nc_ohc=jvWoBAfyqMkAX84QbIF&tn=8wTHC0apnhtpmk5T&edm=AGyKU4gBAAAA&ccb=7-5&ig_cache_key=MjkyMjczNzAwNzIyODQ0NDczNw%3D%3D.2-ccb7-5&oh=00_AT8DsDhNPiSF2o2eRkalxiFmWu1-edbS7c47BSE7HHElSw&oe=63205710&_nc_sid=4cb768',\n",
       "  'https://scontent-gmp1-1.cdninstagram.com/v/t51.2885-15/305723841_112739121570212_7568995791436952172_n.jpg?stp=dst-jpg_e15_fr_p1080x1080&_nc_ht=scontent-gmp1-1.cdninstagram.com&_nc_cat=108&_nc_ohc=6r2CyXF2iloAX-nolQ2&tn=8wTHC0apnhtpmk5T&edm=AGyKU4gBAAAA&ccb=7-5&ig_cache_key=MjkyMjczNTU3OTMzNjI4Njc1Nw%3D%3D.2-ccb7-5&oh=00_AT_Q5rQKfyiecv_6RJs_AV84zUZQDL2nuDUBMvb4fx9msw&oe=63213517&_nc_sid=4cb768',\n",
       "  'https://scontent-gmp1-1.cdninstagram.com/v/t51.2885-15/305683155_139668575172865_6677008921898410002_n.jpg?stp=dst-jpg_e35&_nc_ht=scontent-gmp1-1.cdninstagram.com&_nc_cat=101&_nc_ohc=swtZJgr1pnkAX_hBTlV&edm=AGyKU4gBAAAA&ccb=7-5&ig_cache_key=MjkyMjczNDc2ODk0NDkzMDM4Ng%3D%3D.2-ccb7-5&oh=00_AT_dAURwHVSAktZ2mBYozIZXxomAkkUnXHf9Pp0dcJTYAg&oe=632089E6&_nc_sid=4cb768',\n",
       "  'https://scontent-gmp1-1.cdninstagram.com/v/t51.2885-15/305736718_650538366703807_7048028982248555497_n.webp?stp=dst-jpg_e35&_nc_ht=scontent-gmp1-1.cdninstagram.com&_nc_cat=107&_nc_ohc=hr5UJssbMN4AX-RXDGG&edm=AGyKU4gBAAAA&ccb=7-5&ig_cache_key=MjkyMjczMzg5MzM4NDAxNzAyOQ%3D%3D.2-ccb7-5&oh=00_AT9bKGv69AmhFjob2hBuUWSNQ39c1P6V7YsmxmxanLK3nA&oe=6320BFD1&_nc_sid=4cb768',\n",
       "  'https://scontent-gmp1-1.cdninstagram.com/v/t51.2885-15/305837526_188447263569376_2051176549408120651_n.jpg?stp=dst-jpg_e35&_nc_ht=scontent-gmp1-1.cdninstagram.com&_nc_cat=104&_nc_ohc=5ZWu7kbEsVgAX_xLGyS&edm=AGyKU4gBAAAA&ccb=7-5&ig_cache_key=MjkyMjcyNTQzNzUyMjQ2ODg1NQ%3D%3D.2-ccb7-5&oh=00_AT_q_08JAFz4nMypiIhvc1IYD_a6BFynOj28OVgZxpJyBA&oe=6320C6B1&_nc_sid=4cb768',\n",
       "  'https://scontent-gmp1-1.cdninstagram.com/v/t51.2885-15/305502776_648308543295617_3385537001385593604_n.jpg?stp=dst-jpg_e15_s640x640&_nc_ht=scontent-gmp1-1.cdninstagram.com&_nc_cat=105&_nc_ohc=56pt-yTu6KsAX8HJbhY&edm=AGyKU4gBAAAA&ccb=7-5&ig_cache_key=MjkyMjcxNTI4NTI0NjM4MjE5NQ%3D%3D.2-ccb7-5&oh=00_AT8ccvZUSO3CYU155tF-1qoodQC3Ql4e3qHEN2xVJqJMzA&oe=631FDFFB&_nc_sid=4cb768',\n",
       "  'https://scontent-gmp1-1.cdninstagram.com/v/t51.2885-15/305500397_451405486925160_2312045709315995774_n.jpg?stp=dst-jpg_e35&_nc_ht=scontent-gmp1-1.cdninstagram.com&_nc_cat=100&_nc_ohc=E7-e7clUdHoAX9agUMq&edm=AGyKU4gBAAAA&ccb=7-5&ig_cache_key=MjkyMjcxMzk2MTAzNDIzMDA3MQ%3D%3D.2-ccb7-5&oh=00_AT_FEJ3FHSFKe2G30DdVTcGFiFfn2gk7Aq922G4c2XwpMQ&oe=6320CD86&_nc_sid=4cb768',\n",
       "  'https://scontent-gmp1-1.cdninstagram.com/v/t51.2885-15/305617514_1443499759496977_4480515629253626688_n.jpg?stp=dst-jpg_e35&_nc_ht=scontent-gmp1-1.cdninstagram.com&_nc_cat=101&_nc_ohc=aSWmXgwBBJwAX_gNfqP&edm=AGyKU4gBAAAA&ccb=7-5&ig_cache_key=MjkyMjcxNDAyODEyMDUzNDkxMw%3D%3D.2-ccb7-5&oh=00_AT_Yk9fFVrCdynS4MGApVzJSMQSoW-4gEv19tVnN3-D3pQ&oe=63215C34&_nc_sid=4cb768',\n",
       "  'https://scontent-gmp1-1.cdninstagram.com/v/t51.2885-15/305855316_469130661763678_9062692871934826635_n.jpg?stp=dst-jpg_e35&_nc_ht=scontent-gmp1-1.cdninstagram.com&_nc_cat=110&_nc_ohc=pa9Wb27hVlMAX-IuNJ_&edm=AGyKU4gBAAAA&ccb=7-5&ig_cache_key=MjkyMjcxMjM0MDcxOTY0Njc2Nw%3D%3D.2-ccb7-5&oh=00_AT-ogTqCWcZnjah2psHVIlbqdmasw9hItcq-79qeUKGG4Q&oe=631FF70A&_nc_sid=4cb768',\n",
       "  'https://scontent-gmp1-1.cdninstagram.com/v/t51.2885-15/305591211_158054273493554_3366559215146318539_n.webp?stp=dst-jpg_e35&_nc_ht=scontent-gmp1-1.cdninstagram.com&_nc_cat=102&_nc_ohc=NKQlNzfjEFkAX_IHnXu&tn=8wTHC0apnhtpmk5T&edm=AGyKU4gBAAAA&ccb=7-5&ig_cache_key=MjkyMjcwOTUwODk2NTA4NDg2Ng%3D%3D.2-ccb7-5&oh=00_AT_qoVVQI9l84Lm9yCvhtKdEpPk0-bOMQlNavcD9ZEN36g&oe=63205662&_nc_sid=4cb768',\n",
       "  'https://scontent-gmp1-1.cdninstagram.com/v/t51.2885-15/305524880_482641416744336_8120772010517423766_n.jpg?stp=dst-jpg_e35&_nc_ht=scontent-gmp1-1.cdninstagram.com&_nc_cat=100&_nc_ohc=uuVdpQ9xiXwAX8rFZ0Z&edm=AGyKU4gBAAAA&ccb=7-5&ig_cache_key=MjkyMjcwMTMyMjgwOTgzODI2MQ%3D%3D.2-ccb7-5&oh=00_AT-X2PgJAbOstBdjimVOyvN1W9GawsJFPOq0L6ocCpr7Qw&oe=63202DFD&_nc_sid=4cb768',\n",
       "  'https://scontent-gmp1-1.cdninstagram.com/v/t51.2885-15/305889946_3310186095928053_7807986136333621123_n.jpg?stp=dst-jpg_e35&_nc_ht=scontent-gmp1-1.cdninstagram.com&_nc_cat=109&_nc_ohc=SI7XUl25Ie0AX9AHvFX&edm=AGyKU4gBAAAA&ccb=7-5&ig_cache_key=MjkyMjY5OTg2NTc1MDY5MDAyMA%3D%3D.2-ccb7-5&oh=00_AT85bJHUF-b7SdRoS84xVu8cJmYe-q2mHEXwVsuv66so8g&oe=632132B0&_nc_sid=4cb768',\n",
       "  'https://scontent-gmp1-1.cdninstagram.com/v/t51.2885-15/305650134_4205649829559622_5279983719768727957_n.jpg?stp=dst-jpg_e35&_nc_ht=scontent-gmp1-1.cdninstagram.com&_nc_cat=106&_nc_ohc=7aW16X4gCLoAX9pGMwW&tn=8wTHC0apnhtpmk5T&edm=AGyKU4gBAAAA&ccb=7-5&ig_cache_key=MjkyMjY5NzE5MjkyMjA0ODM4Mw%3D%3D.2-ccb7-5&oh=00_AT967o8yTFNolNDrLJdc6HNSeGfc3fcYpjp2bENZp3KVHw&oe=632011CE&_nc_sid=4cb768',\n",
       "  'https://scontent-gmp1-1.cdninstagram.com/v/t51.2885-15/305873523_139580858776761_5340450944701991767_n.jpg?stp=dst-jpg_e35&_nc_ht=scontent-gmp1-1.cdninstagram.com&_nc_cat=109&_nc_ohc=du6q82LsFMYAX_xmpmc&edm=AGyKU4gBAAAA&ccb=7-5&ig_cache_key=MjkyMjY5MzU0NDQ5MTU0ODM0Mw%3D%3D.2-ccb7-5&oh=00_AT_PmMFHtS2Yk10iStVCIVYpsbdruX-KUFUGPtMwOswpfA&oe=632051AE&_nc_sid=4cb768',\n",
       "  'https://scontent-gmp1-1.cdninstagram.com/v/t51.2885-15/305527136_558453199366991_1463713883608663459_n.webp?stp=dst-jpg_e35&_nc_ht=scontent-gmp1-1.cdninstagram.com&_nc_cat=111&_nc_ohc=wBbfw8Rig64AX_ZB7lT&edm=AGyKU4gBAAAA&ccb=7-5&ig_cache_key=MjkyMjY5MTMwMjM0MjQ2MTk5MA%3D%3D.2-ccb7-5&oh=00_AT-7DKH6XXufv_lLl79QhUda5Yku1i2zV0j_mBrC4vv7Iw&oe=632132F6&_nc_sid=4cb768',\n",
       "  'https://scontent-gmp1-1.cdninstagram.com/v/t51.2885-15/305644884_615489050168725_7418462216163967298_n.webp?stp=dst-jpg_e35&_nc_ht=scontent-gmp1-1.cdninstagram.com&_nc_cat=101&_nc_ohc=yRY6syDTCVkAX-qu2_w&edm=AGyKU4gBAAAA&ccb=7-5&ig_cache_key=MjkyMjY5MTE2NTg0MTM0MjcwMA%3D%3D.2-ccb7-5&oh=00_AT9K7qZe2EdbuTvJqIl667Yzlek5vL2necAxM2rRhqd-gQ&oe=631FF646&_nc_sid=4cb768',\n",
       "  'https://scontent-gmp1-1.cdninstagram.com/v/t51.2885-15/305910375_754426822527292_5602953841240847828_n.jpg?stp=dst-jpg_e35&_nc_ht=scontent-gmp1-1.cdninstagram.com&_nc_cat=104&_nc_ohc=MWxDcYngEZgAX8FnekG&edm=AGyKU4gBAAAA&ccb=7-5&ig_cache_key=MjkyMjY4ODk4Mzk5OTUwMDIwMg%3D%3D.2-ccb7-5&oh=00_AT9UgcV8ubNx_WgfmdtJZNk5-7wPFYkez5NM3LBnPjOk7w&oe=6321A7AC&_nc_sid=4cb768',\n",
       "  'https://scontent-gmp1-1.cdninstagram.com/v/t51.2885-15/305800387_400519082032230_1894785445659488676_n.webp?stp=dst-jpg_e35&_nc_ht=scontent-gmp1-1.cdninstagram.com&_nc_cat=106&_nc_ohc=mF6Ltr5vLdYAX9SaGCi&edm=AGyKU4gBAAAA&ccb=7-5&ig_cache_key=MjkyMjY4NTY3MzI0MTM1NjQzOQ%3D%3D.2-ccb7-5&oh=00_AT88eBGkgKqk2b7s0BUWbZgU7-ev-MJFkGVpKgs13kbn_Q&oe=631FCB58&_nc_sid=4cb768',\n",
       "  'https://scontent-gmp1-1.cdninstagram.com/v/t51.2885-15/306005781_2332511520229224_6526419251362026513_n.jpg?stp=dst-jpg_e35&_nc_ht=scontent-gmp1-1.cdninstagram.com&_nc_cat=100&_nc_ohc=f9hfEw-16mQAX854TTc&edm=AGyKU4gBAAAA&ccb=7-5&ig_cache_key=MjkyMjY4NTg3NjE1MjkwNzc5MQ%3D%3D.2-ccb7-5&oh=00_AT-62revkGoMySZ7sxYG054MTmkskfI32FZcMef68McJ4Q&oe=63213A50&_nc_sid=4cb768',\n",
       "  'https://scontent-gmp1-1.cdninstagram.com/v/t51.2885-15/305694789_408200518128165_1960121507916680114_n.jpg?stp=dst-jpg_e35&_nc_ht=scontent-gmp1-1.cdninstagram.com&_nc_cat=109&_nc_ohc=TXpSwXfHr4YAX822M04&edm=AGyKU4gBAAAA&ccb=7-5&ig_cache_key=MjkyMjY4MTkzNTE5NDcwMzM2OA%3D%3D.2-ccb7-5&oh=00_AT_pI2ZjOI7vz1s3UZzrIrLQGvyMp-h5k_LEsNhxsWpnWw&oe=6320B92D&_nc_sid=4cb768',\n",
       "  'https://scontent-gmp1-1.cdninstagram.com/v/t51.2885-15/302666000_1226064568228684_3274613245419336493_n.webp?stp=dst-jpg_e35_p1080x1080&_nc_ht=scontent-gmp1-1.cdninstagram.com&_nc_cat=104&_nc_ohc=6zhcw54Xs5oAX-Ahg-T&edm=APU89FABAAAA&ccb=7-5&oh=00_AT9UeuHno_gsXmC6jQkQJqTlwD1BFUlf2JDG8XWeztEpzA&oe=63212EE6&_nc_sid=86f79a',\n",
       "  'https://scontent-gmp1-1.cdninstagram.com/v/t51.2885-15/302397687_611871997308302_5067343106846427253_n.webp?stp=dst-jpg_e35_p1080x1080&_nc_ht=scontent-gmp1-1.cdninstagram.com&_nc_cat=102&_nc_ohc=sfR5qHAvYl4AX92zHJm&edm=APU89FABAAAA&ccb=7-5&oh=00_AT89CKnMuRRHDVJhBy8zr8chFxkHxa6_jtraMhb9b6avnA&oe=63219A8A&_nc_sid=86f79a'],\n",
       " 32)"
      ]
     },
     "execution_count": 75,
     "metadata": {},
     "output_type": "execute_result"
    }
   ],
   "source": [
    "# 이미지 url 따오기\n",
    "L = []\n",
    "for item in html.select('img._aagt'):\n",
    "    L.append(item.attrs['src'])\n",
    "L, len(L)"
   ]
  },
  {
   "cell_type": "code",
   "execution_count": null,
   "metadata": {},
   "outputs": [],
   "source": [
    "# 셀렉한 이미지 소스에서 이미지 저장\n"
   ]
  },
  {
   "cell_type": "code",
   "execution_count": 76,
   "metadata": {
    "ExecuteTime": {
     "end_time": "2022-06-08T05:18:36.684259Z",
     "start_time": "2022-06-08T05:18:36.148781Z"
    }
   },
   "outputs": [],
   "source": [
    "# 이미지 저장\n",
    "import urllib\n",
    "for index, url in enumerate(L):\n",
    "    time.sleep(2)\n",
    "    urllib.request.urlretrieve(url, f'save_test_{index}.png')"
   ]
  },
  {
   "cell_type": "code",
   "execution_count": 81,
   "metadata": {
    "ExecuteTime": {
     "end_time": "2022-06-08T06:27:35.482882Z",
     "start_time": "2022-06-08T06:25:35.507724Z"
    }
   },
   "outputs": [
    {
     "name": "stdout",
     "output_type": "stream",
     "text": [
      "#서울여행\n",
      "#남산타워\n",
      "#jingoo_photo\n",
      "#국립중앙박물관\n",
      "#용산공원\n",
      "#남산공원\n",
      "#노들섬\n",
      "#이촌한강공원\n",
      "#해방촌\n",
      "#해방촌노을\n",
      "#해방촌루프탑\n",
      "#경리단길\n",
      "#녹사평육교\n",
      "#서울가볼만한곳\n",
      "#서울데이트\n",
      "#서울야경\n",
      "#남산뷰\n",
      "#한강피크닉\n",
      "#대한민국구석구석\n",
      "#니콘이미징코리아\n"
     ]
    },
    {
     "data": {
      "text/plain": [
       "'728'"
      ]
     },
     "execution_count": 81,
     "metadata": {},
     "output_type": "execute_result"
    }
   ],
   "source": [
    "# 반복문으로 페이지 넘기면서 태그 좋아요 갯수 출력\n",
    "# 2번째 페이지 부터 넘기면 코드 깔끔\n",
    "driver.find_element(By.XPATH, '//*[@id=\"mount_0_0_Qf\"]/div/div/div/div[2]/div/div/div[1]/div/div[3]/div/div/div/div/div[1]/div/div/div[2]/button').click()\n",
    "html = BeautifulSoup(driver.page_source, 'html.parser')\n",
    "for item in html.select('a._aa9_'):\n",
    "    print(item.text)\n",
    "html.select('div._aacx span')[-1].text"
   ]
  },
  {
   "cell_type": "code",
   "execution_count": 126,
   "metadata": {
    "ExecuteTime": {
     "end_time": "2022-06-08T06:27:51.615396Z",
     "start_time": "2022-06-08T06:27:51.609395Z"
    }
   },
   "outputs": [
    {
     "data": {
      "text/plain": [
       "[['#남산길에서내려가는코스추천'],\n",
       " ['#비건',\n",
       "  '#채식',\n",
       "  '#비건도넛',\n",
       "  '#프로틴빵',\n",
       "  '#비건빵',\n",
       "  '#fitless',\n",
       "  '#약콩요거트',\n",
       "  '#비건요거트',\n",
       "  '#소이요',\n",
       "  '#소미노',\n",
       "  '#VCLT',\n",
       "  '#에그레스에그',\n",
       "  '#르뱅쿠키',\n",
       "  '#바이두부',\n",
       "  '#해방촌',\n",
       "  '#마요덮밥',\n",
       "  '#비빔국수',\n",
       "  '#비건닭갈비',\n",
       "  '#카페시바',\n",
       "  '#숙대입구',\n",
       "  '#남영동',\n",
       "  '#vegan',\n",
       "  '#vegetarian',\n",
       "  '#govegan',\n",
       "  '#veganfoodshare',\n",
       "  '#whatveganseat',\n",
       "  '#plantbased'],\n",
       " ['#HBD', '#해방촌', '#힐즈앤유로파', '#데이트'],\n",
       " ['#후암동꽃집',\n",
       "  '#해방촌꽃집',\n",
       "  '#숙대꽃집',\n",
       "  '#용산꽃집',\n",
       "  '#서울꽃집',\n",
       "  '#후암동',\n",
       "  '#해방촌',\n",
       "  '#숙대입구',\n",
       "  '#숙대입구역',\n",
       "  '#남산',\n",
       "  '#삼각지',\n",
       "  '#꽃',\n",
       "  '#꽃집',\n",
       "  '#꽃다발',\n",
       "  '#꽃선물',\n",
       "  '#flowers',\n",
       "  '#flower',\n",
       "  '#flowershop'],\n",
       " ['#바람의자유하늘의여유',\n",
       "  '#산책하기좋은곳',\n",
       "  '#남산타워',\n",
       "  '#남산서울타워',\n",
       "  '#서울하늘',\n",
       "  '#하늘',\n",
       "  '#해방촌',\n",
       "  '#후암동'],\n",
       " ['#비건',\n",
       "  '#비고미',\n",
       "  '#해방촌',\n",
       "  '#해방촌맛집',\n",
       "  '#해방촌비건',\n",
       "  '#몽크스델리',\n",
       "  '#비건맛집',\n",
       "  '#나의비거니즘일기',\n",
       "  '#vegan',\n",
       "  '#itaewon'],\n",
       " ['#진돗개✖️진돗개',\n",
       "  '#방구석뛰뛰',\n",
       "  '#강아지',\n",
       "  '#진돗개',\n",
       "  '#진도믹스',\n",
       "  '#해방촌',\n",
       "  '#누렁이',\n",
       "  '#dog',\n",
       "  '#dogstagram',\n",
       "  '#jindo',\n",
       "  '#jindomix',\n",
       "  '#jindodog'],\n",
       " [],\n",
       " ['#다이어트',\n",
       "  '#fff',\n",
       "  '#오오티디',\n",
       "  '#좋반테러',\n",
       "  '#대구가오픈카페',\n",
       "  '#selfie',\n",
       "  '#럽',\n",
       "  '#팔로우늘리기',\n",
       "  '#취미',\n",
       "  '#followforfollowback',\n",
       "  '#strawberrycookies',\n",
       "  '#데일리',\n",
       "  '#디저트',\n",
       "  '#고양이동영상',\n",
       "  '#baking',\n",
       "  '#하루한컷',\n",
       "  '#baby',\n",
       "  '#아기옷',\n",
       "  '#dailylook',\n",
       "  '#오브제',\n",
       "  '#첫줄좋튀',\n",
       "  '#해방촌',\n",
       "  '#푸들',\n",
       "  '#슬랙스맛집',\n",
       "  '#갈푸',\n",
       "  '#vinyl',\n",
       "  '#김포강아분양',\n",
       "  '#반려견분양',\n",
       "  '#thing',\n",
       "  '#follow'],\n",
       " ['#01년생',\n",
       "  '#이태원카페',\n",
       "  '#해방촌',\n",
       "  '#루프탑',\n",
       "  '#해방촌카페',\n",
       "  '#핫플',\n",
       "  '#셀피',\n",
       "  '#itaewon',\n",
       "  '#셀스타그램',\n",
       "  '#서울야경',\n",
       "  '#화곡',\n",
       "  '#마곡',\n",
       "  '#오목교',\n",
       "  '#남산',\n",
       "  '#이태원펍',\n",
       "  '#pub',\n",
       "  '#칵테일']]"
      ]
     },
     "execution_count": 126,
     "metadata": {},
     "output_type": "execute_result"
    }
   ],
   "source": []
  },
  {
   "cell_type": "markdown",
   "metadata": {},
   "source": [
    "## 크롤링 참고용 추가 코드"
   ]
  },
  {
   "cell_type": "code",
   "execution_count": null,
   "metadata": {},
   "outputs": [],
   "source": [
    "# 로그인 시 \n",
    "from selenium.webdriver.chrome.options import Options\n",
    "co = Options()\n",
    "co.add_experimental_option('debuggerAddress', '127.0.0.1:9222')\n",
    "driver = webdriver.Chrome('./chromedriver', options=co)"
   ]
  },
  {
   "cell_type": "code",
   "execution_count": null,
   "metadata": {},
   "outputs": [],
   "source": [
    "# 스크롤다운\n",
    "driver.execute_script(\"window.scrollTo(150, document.body.scrollHeight);\")"
   ]
  }
 ],
 "metadata": {
  "kernelspec": {
   "display_name": "Python 3",
   "language": "python",
   "name": "python3"
  },
  "language_info": {
   "codemirror_mode": {
    "name": "ipython",
    "version": 3
   },
   "file_extension": ".py",
   "mimetype": "text/x-python",
   "name": "python",
   "nbconvert_exporter": "python",
   "pygments_lexer": "ipython3",
   "version": "3.8.8"
  },
  "toc": {
   "base_numbering": 1,
   "nav_menu": {},
   "number_sections": true,
   "sideBar": true,
   "skip_h1_title": true,
   "title_cell": "Table of Contents",
   "title_sidebar": "Contents",
   "toc_cell": false,
   "toc_position": {},
   "toc_section_display": true,
   "toc_window_display": false
  },
  "varInspector": {
   "cols": {
    "lenName": 16,
    "lenType": 16,
    "lenVar": 40
   },
   "kernels_config": {
    "python": {
     "delete_cmd_postfix": "",
     "delete_cmd_prefix": "del ",
     "library": "var_list.py",
     "varRefreshCmd": "print(var_dic_list())"
    },
    "r": {
     "delete_cmd_postfix": ") ",
     "delete_cmd_prefix": "rm(",
     "library": "var_list.r",
     "varRefreshCmd": "cat(var_dic_list()) "
    }
   },
   "types_to_exclude": [
    "module",
    "function",
    "builtin_function_or_method",
    "instance",
    "_Feature"
   ],
   "window_display": false
  }
 },
 "nbformat": 4,
 "nbformat_minor": 2
}
