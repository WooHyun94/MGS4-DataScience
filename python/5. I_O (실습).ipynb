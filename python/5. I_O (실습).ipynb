{
 "cells": [
  {
   "cell_type": "markdown",
   "metadata": {
    "id": "7KaEFFwmaz9f"
   },
   "source": [
    "## I/O (Input / Output) "
   ]
  },
  {
   "cell_type": "markdown",
   "metadata": {
    "id": "Ob-m8XQbaz9o"
   },
   "source": [
    "### 1. STDIN / STDOUT (Standard IN, Standard OUT)"
   ]
  },
  {
   "cell_type": "markdown",
   "metadata": {
    "id": "I9B1Br_0az9o"
   },
   "source": [
    "- 파이썬은 input()을 통해서 stdin을 사용자로부터 입력받을 수 있다.\n",
    "\n",
    "\n",
    "- 파이썬은 print()를 통해서 stdout을 사용자에게 출력할 수 있다."
   ]
  },
  {
   "cell_type": "code",
   "execution_count": null,
   "metadata": {
    "id": "NcHNtr58az9p"
   },
   "outputs": [],
   "source": [
    "# a에 키보드로 입력받은 값을 할당하고 출력해본다.\n"
   ]
  },
  {
   "cell_type": "markdown",
   "metadata": {
    "id": "-9bkJP0haz9q"
   },
   "source": [
    "- 파이썬에서는 stdin은 무조건 문자열 타입으로 들어온다. 이를 type casting을 통해서 다른 데이터 타입으로 바꾸어 사용해야 한다."
   ]
  },
  {
   "cell_type": "code",
   "execution_count": null,
   "metadata": {
    "id": "Kre90bwsaz9r"
   },
   "outputs": [],
   "source": [
    "# 입력받는 값을 숫자라고 가정한 경우.\n"
   ]
  },
  {
   "cell_type": "code",
   "execution_count": null,
   "metadata": {
    "id": "8iinAvVAaz9r"
   },
   "outputs": [],
   "source": [
    "# 입력받는 값을 숫자라고 가정했는데 문자열이 들어오면 에러가 난다. 이 경우는 type casting이 실패한 경우이다.\n"
   ]
  },
  {
   "cell_type": "markdown",
   "metadata": {
    "id": "6eZWUq_Daz9r"
   },
   "source": [
    "- 입력이 문자열이기 때문에 fancy하게 input을 처리할 수 있는 방법이 있다."
   ]
  },
  {
   "cell_type": "markdown",
   "metadata": {
    "id": "XDI8URO8az9s"
   },
   "source": [
    "#### Q. 만약에 stdin으로 여러 개의 숫자가 들어오는 경우, 입력의 format을 알고 있다고 가정했을 때, 이를 효과적으로 처리할 수 있을까?"
   ]
  },
  {
   "cell_type": "code",
   "execution_count": null,
   "metadata": {
    "id": "sg0e_5H5az9s"
   },
   "outputs": [],
   "source": [
    "# 이는 숫자를 2개로 가정한 경우\n"
   ]
  },
  {
   "cell_type": "code",
   "execution_count": null,
   "metadata": {
    "id": "SPAtlM66az9s"
   },
   "outputs": [],
   "source": [
    "# 이와 같은 표현을 list comprehension이라고 한다.\n"
   ]
  },
  {
   "cell_type": "code",
   "execution_count": null,
   "metadata": {
    "id": "fCGVWA4Z4O6W"
   },
   "outputs": [],
   "source": [
    "# for문을 사용한 코드\n"
   ]
  },
  {
   "cell_type": "code",
   "execution_count": null,
   "metadata": {
    "id": "SfAWJB7taz9t"
   },
   "outputs": [],
   "source": [
    "# 위의 코드는 아래와 같다. 위의 코드가 훨씬 간단한 것을 확인할 수 있다. 익숙해져서 list comprehension을 사용하도록 하자.\n"
   ]
  },
  {
   "cell_type": "markdown",
   "metadata": {
    "id": "DPYlwZhEaz9t"
   },
   "source": [
    "### 2. File I/O"
   ]
  },
  {
   "cell_type": "markdown",
   "metadata": {
    "id": "HqaNOvZG1sgw"
   },
   "source": [
    "- file I/O란 프로그램에서 파일을 저장하고 불러오는 모든 것들을 의미합니다.\n",
    "\n",
    "- file에는 txt, png, json, xlsx 등 여러가지 종류가 있습니다.\n",
    "\n",
    "- 그 중에서 가장 간단하게 사용할 수 있는 데이터는 txt 파일입니다."
   ]
  },
  {
   "cell_type": "markdown",
   "metadata": {
    "id": "BGNX1KElaz9t"
   },
   "source": [
    "> 텍스트 파일을 여는 방법에는 read(), readline(), readlines(), for문을 이용한 방법이 있다. 코드를 통해 각 방법의 차이를 알아보자."
   ]
  },
  {
   "cell_type": "markdown",
   "metadata": {},
   "source": [
    "## 파일을 불러올 때 문제 \n",
    "\n",
    "1. 경로를 인식하지 못하는 경우\n",
    "\n",
    "> 경로에 영어가 아닌 다른 글자가 있는 경우에 인식하지 못하는 경우가 있음.\n",
    "\n",
    "> 경로가 잘못된 경우 \n",
    "\n",
    "2. 파일 내부의 데이터가 **한글** 텍스트인 경우 \n",
    "\n",
    "> 기본적으로 텍스트를 utf-8이라는 방식으로 인코딩함. \n",
    "\n",
    "> 윈도우 + 한글 : cp949 \n",
    "\n",
    "## ./ㅇㅇㅇ : 현재폴더\n",
    "## ../ㅇㅇㅇ : 상위폴더"
   ]
  },
  {
   "cell_type": "code",
   "execution_count": 31,
   "metadata": {
    "id": "VKYHye1baz9u"
   },
   "outputs": [
    {
     "name": "stdout",
     "output_type": "stream",
     "text": [
      "아\n",
      "휴\n",
      "아이구\n",
      "아이쿠\n",
      "아이고\n",
      "어\n",
      "나\n",
      "우리\n",
      "저희\n",
      "따라\n",
      "의해\n",
      "을\n",
      "를\n",
      "에\n",
      "의\n",
      "가\n",
      "으로\n",
      "로\n",
      "에게\n",
      "뿐이다\n",
      "의거하여\n",
      "근거하여\n",
      "입각하여\n",
      "기준으로\n",
      "예하면\n",
      "예를 들면\n",
      "예를 들자면\n"
     ]
    }
   ],
   "source": [
    "# f.read()를 통해 data 폴더안에 있는 test.txt를 read mode로 열어봅니다.\n",
    "with open(\"./test.txt\", 'r', encoding = 'utf8') as f:\n",
    "    print(f.read()) # 하나의 str으로 읽어옴"
   ]
  },
  {
   "cell_type": "code",
   "execution_count": 29,
   "metadata": {
    "id": "4DSliMQlaz9u"
   },
   "outputs": [
    {
     "name": "stdout",
     "output_type": "stream",
     "text": [
      "아\n",
      "\n"
     ]
    }
   ],
   "source": [
    "# f.readline()를 통해 data 폴더안에 있는 test.txt를 read mode로 열어봅니다.\n",
    "with open(\"test.txt\", 'r', encoding = 'utf8') as f:\n",
    "    data = f.readline() # 맨윗줄만 읽어옴\n",
    "    print(data)"
   ]
  },
  {
   "cell_type": "code",
   "execution_count": 30,
   "metadata": {
    "id": "SLD_zgm4az9u"
   },
   "outputs": [
    {
     "name": "stdout",
     "output_type": "stream",
     "text": [
      "['아\\n', '휴\\n', '아이구\\n', '아이쿠\\n', '아이고\\n', '어\\n', '나\\n', '우리\\n', '저희\\n', '따라\\n', '의해\\n', '을\\n', '를\\n', '에\\n', '의\\n', '가\\n', '으로\\n', '로\\n', '에게\\n', '뿐이다\\n', '의거하여\\n', '근거하여\\n', '입각하여\\n', '기준으로\\n', '예하면\\n', '예를 들면\\n', '예를 들자면']\n"
     ]
    }
   ],
   "source": [
    "# f.readlines()를 통해 data 폴더안에 있는 test.txt를 read mode로 열어봅니다.\n",
    "with open(\"test.txt\", 'r', encoding = 'utf8') as f:\n",
    "    data = f.readlines() # 각 줄을 split하여 리스트로 반환함\n",
    "    print(data)"
   ]
  },
  {
   "cell_type": "code",
   "execution_count": 36,
   "metadata": {
    "id": "WEP8wGLoaz9u"
   },
   "outputs": [
    {
     "data": {
      "text/plain": [
       "['아',\n",
       " '휴',\n",
       " '아이구',\n",
       " '아이쿠',\n",
       " '아이고',\n",
       " '어',\n",
       " '나',\n",
       " '우리',\n",
       " '저희',\n",
       " '따라',\n",
       " '의해',\n",
       " '을',\n",
       " '를',\n",
       " '에',\n",
       " '의',\n",
       " '가',\n",
       " '으로',\n",
       " '로',\n",
       " '에게',\n",
       " '뿐이다',\n",
       " '의거하여',\n",
       " '근거하여',\n",
       " '입각하여',\n",
       " '기준으로',\n",
       " '예하면',\n",
       " '예를 들면',\n",
       " '예를 들자면']"
      ]
     },
     "execution_count": 36,
     "metadata": {},
     "output_type": "execute_result"
    }
   ],
   "source": [
    "# for문을 통해 data 폴더안에 있는 test.txt를 read mode로 열어서 출력해봅니다.\n",
    "with open(\"test.txt\", 'r', encoding = 'utf8') as f:\n",
    "#     for line in f:\n",
    "#         print(line)\n",
    "#     for word in f.readlines():\n",
    "#         print(word)\n",
    "    L = [line.strip() for line in f]\n",
    "L"
   ]
  },
  {
   "cell_type": "markdown",
   "metadata": {
    "id": "RJ7dLzyeaz9v"
   },
   "source": [
    "#### Q. test.txt를 열어서 한글자짜리를 다 지우고 다시 저장하고 싶다. 어떻게 해야할까?"
   ]
  },
  {
   "cell_type": "code",
   "execution_count": 42,
   "metadata": {
    "id": "fP0xhI0Caz9v"
   },
   "outputs": [
    {
     "name": "stdout",
     "output_type": "stream",
     "text": [
      "['아이구', '아이쿠', '아이고', '우리', '저희', '따라', '의해', '으로', '에게', '뿐이다', '의거하여', '근거하여', '입각하여', '기준으로', '예하면', '예를 들면', '예를 들자면']\n"
     ]
    }
   ],
   "source": [
    "# test.txt를 read mode로 열고 할 일이 끝나면 자동으로 닫는다.\n",
    "with open('test.txt', 'r', encoding='utf8') as f:\n",
    "#     for word in f.readlines():\n",
    "#         word = word.strip()\n",
    "        \n",
    "#         if len(word) >= 2:\n",
    "#             output.append(word)\n",
    "    output = [word.strip() for word in f if len(word.strip()) >= 2]\n",
    "\n",
    "# 한글자 이상인 텍스트만 output list에 저장한다.\n",
    "print(output)\n",
    "\n",
    "# result.txt로 output list에 있는 내용을 저장하기 위해 write mode로 열었다.\n",
    "with open('result.txt', 'w', encoding='utf8') as f:\n",
    "    for word in output:\n",
    "#         f.write(word + '\\n')\n",
    "        print(word, file = f) # flie output\n"
   ]
  },
  {
   "cell_type": "code",
   "execution_count": 43,
   "metadata": {
    "id": "WT40gJ8Naz9v"
   },
   "outputs": [
    {
     "name": "stdout",
     "output_type": "stream",
     "text": [
      "아이구\n",
      "아이쿠\n",
      "아이고\n",
      "우리\n",
      "저희\n",
      "따라\n",
      "의해\n",
      "으로\n",
      "에게\n",
      "뿐이다\n",
      "의거하여\n",
      "근거하여\n",
      "입각하여\n",
      "기준으로\n",
      "예하면\n",
      "예를 들면\n",
      "예를 들자면\n"
     ]
    }
   ],
   "source": [
    "# 제대로 데이터가 저장되어 있는지, 불러와서 확인한다.\n",
    "with open('result.txt', 'r', encoding = 'utf8') as f:\n",
    "    for word in f.readlines():\n",
    "        word = word.strip()\n",
    "        print(word)"
   ]
  },
  {
   "cell_type": "markdown",
   "metadata": {
    "id": "Z1O6wq4Baz9v"
   },
   "source": [
    "### (OPTIONAL) pickle 라이브러리를 통해서 파이썬 object 자체를 저장하기"
   ]
  },
  {
   "cell_type": "code",
   "execution_count": 48,
   "metadata": {
    "id": "Y8SXE8dDaz9v"
   },
   "outputs": [
    {
     "data": {
      "text/plain": [
       "['아이구\\n',\n",
       " '아이쿠\\n',\n",
       " '아이고\\n',\n",
       " '우리\\n',\n",
       " '저희\\n',\n",
       " '따라\\n',\n",
       " '의해\\n',\n",
       " '으로\\n',\n",
       " '에게\\n',\n",
       " '뿐이다\\n',\n",
       " '의거하여\\n',\n",
       " '근거하여\\n',\n",
       " '입각하여\\n',\n",
       " '기준으로\\n',\n",
       " '예하면\\n',\n",
       " '예를 들면\\n',\n",
       " '예를 들자면\\n']"
      ]
     },
     "execution_count": 48,
     "metadata": {},
     "output_type": "execute_result"
    }
   ],
   "source": [
    "import pickle\n",
    "output = [word + '\\n' for word in output]\n",
    "output"
   ]
  },
  {
   "cell_type": "code",
   "execution_count": 49,
   "metadata": {
    "id": "aRRPi3VZaz9w"
   },
   "outputs": [],
   "source": [
    "with open(\"result.pk\", 'wb') as f:\n",
    "    pickle.dump(output, f)"
   ]
  },
  {
   "cell_type": "code",
   "execution_count": 52,
   "metadata": {},
   "outputs": [
    {
     "data": {
      "text/plain": [
       "['아이구\\n',\n",
       " '아이쿠\\n',\n",
       " '아이고\\n',\n",
       " '우리\\n',\n",
       " '저희\\n',\n",
       " '따라\\n',\n",
       " '의해\\n',\n",
       " '으로\\n',\n",
       " '에게\\n',\n",
       " '뿐이다\\n',\n",
       " '의거하여\\n',\n",
       " '근거하여\\n',\n",
       " '입각하여\\n',\n",
       " '기준으로\\n',\n",
       " '예하면\\n',\n",
       " '예를 들면\\n',\n",
       " '예를 들자면\\n']"
      ]
     },
     "execution_count": 52,
     "metadata": {},
     "output_type": "execute_result"
    }
   ],
   "source": [
    "with open('result.pk', 'rb') as f:\n",
    "    output2 = pickle.load(f)\n",
    "output2"
   ]
  },
  {
   "cell_type": "code",
   "execution_count": null,
   "metadata": {},
   "outputs": [],
   "source": []
  }
 ],
 "metadata": {
  "colab": {
   "collapsed_sections": [],
   "name": "Chapter.01 파이썬 프로그래밍-12. I/O (실습).ipynb",
   "provenance": []
  },
  "kernelspec": {
   "display_name": "Python 3",
   "language": "python",
   "name": "python3"
  },
  "language_info": {
   "codemirror_mode": {
    "name": "ipython",
    "version": 3
   },
   "file_extension": ".py",
   "mimetype": "text/x-python",
   "name": "python",
   "nbconvert_exporter": "python",
   "pygments_lexer": "ipython3",
   "version": "3.8.8"
  }
 },
 "nbformat": 4,
 "nbformat_minor": 1
}
